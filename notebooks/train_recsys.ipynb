{
 "cells": [
  {
   "cell_type": "markdown",
   "id": "571e861e-70d7-437e-87f0-8e64d5ba02e2",
   "metadata": {},
   "source": [
    "# Recommender System Training - LightFM\n",
    "\n",
    "In this notebook we will train recommender system in order to map users susceptible answer to a question."
   ]
  },
  {
   "cell_type": "code",
   "execution_count": 1,
   "id": "386ef10b-ea9d-4a3b-a5da-792279d5e4a8",
   "metadata": {},
   "outputs": [
    {
     "name": "stderr",
     "output_type": "stream",
     "text": [
      "/home/okteto/user_recommendation/.venv/lib/python3.9/site-packages/tqdm/auto.py:22: TqdmWarning: IProgress not found. Please update jupyter and ipywidgets. See https://ipywidgets.readthedocs.io/en/stable/user_install.html\n",
      "  from .autonotebook import tqdm as notebook_tqdm\n"
     ]
    }
   ],
   "source": [
    "from utils import SERIALIZED_DATA_ARTIFACT_NAMES, read_data, track_model_metrics, prepare_all_predictions\n",
    "import pandas as pd\n",
    "import numpy as np"
   ]
  },
  {
   "cell_type": "code",
   "execution_count": 2,
   "id": "ab0ee0fe-2098-4088-aadf-67f0f4bd6d5b",
   "metadata": {},
   "outputs": [],
   "source": [
    "random_state = 42"
   ]
  },
  {
   "cell_type": "markdown",
   "id": "1e83330d-dc21-43c5-8c56-1cc16c1c2ae0",
   "metadata": {},
   "source": [
    "## Pure CF model"
   ]
  },
  {
   "cell_type": "markdown",
   "id": "0d260a44-7e45-4249-a8e9-9ee4f13b9e7f",
   "metadata": {},
   "source": [
    "### Get Datasets"
   ]
  },
  {
   "cell_type": "code",
   "execution_count": 21,
   "id": "9d4a5a96-489b-45cc-97a5-20ba061c72a9",
   "metadata": {},
   "outputs": [],
   "source": [
    "# Load datasets containing all users and questions interactions\n",
    "answers = read_data(\"answers.json\")\n",
    "users = read_data(\"users.json\")\n",
    "questions = read_data(\"questions.json\")"
   ]
  },
  {
   "cell_type": "code",
   "execution_count": 22,
   "id": "f604ef4d-7745-429d-af81-4b9b8f598e1a",
   "metadata": {},
   "outputs": [],
   "source": [
    "# Load train test datasets\n",
    "train = pd.read_csv(\"../\"+SERIALIZED_DATA_ARTIFACT_NAMES.path_to_train_dataset)\n",
    "test_cs = pd.read_csv(\"../\"+SERIALIZED_DATA_ARTIFACT_NAMES.path_to_test_cold_start_dataset)\n",
    "test_ws = pd.read_csv(\"../\"+SERIALIZED_DATA_ARTIFACT_NAMES.path_to_test_warm_start_dataset)\n",
    "eval_cs = pd.read_csv(\"../\"+SERIALIZED_DATA_ARTIFACT_NAMES.path_to_eval_cold_start_dataset)\n",
    "eval_ws = pd.read_csv(\"../\"+SERIALIZED_DATA_ARTIFACT_NAMES.path_to_eval_warm_start_dataset)\n",
    "test = pd.concat([test_cs, test_ws], ignore_index=True)\n",
    "eval_ds = pd.concat([eval_cs, eval_ws], ignore_index=True)"
   ]
  },
  {
   "cell_type": "markdown",
   "id": "666d02ed-3afc-4046-bec0-ff2c630a60af",
   "metadata": {},
   "source": [
    "### Create LightFM Dataset"
   ]
  },
  {
   "cell_type": "code",
   "execution_count": 46,
   "id": "4b41ad27-b890-4efd-a4c7-b47c3dca5ac4",
   "metadata": {},
   "outputs": [],
   "source": [
    "from lightfm.data import Dataset\n",
    "\n",
    "dataset = Dataset()\n",
    "dataset.fit((question_id for question_id in questions.question_id.tolist()),\n",
    "            (user_id for user_id in users.id.tolist()))"
   ]
  },
  {
   "cell_type": "code",
   "execution_count": 47,
   "id": "42cd1b30-29d2-4077-93a8-c99ef6d6f6c8",
   "metadata": {},
   "outputs": [
    {
     "name": "stdout",
     "output_type": "stream",
     "text": [
      "Num question: 100000, num_user 138698.\n"
     ]
    }
   ],
   "source": [
    "num_question, num_user = dataset.interactions_shape()\n",
    "print('Num question: {}, num_user {}.'.format(num_question, num_user))"
   ]
  },
  {
   "cell_type": "markdown",
   "id": "7f37eae3-6a3d-4326-86b8-6a31485e9f5a",
   "metadata": {},
   "source": [
    "### Training with equal weights\n",
    "\n",
    "Create interactions for each dataset to train and test model"
   ]
  },
  {
   "cell_type": "code",
   "execution_count": 48,
   "id": "12e42c7b-7049-4569-a5bc-05eab82e0b0f",
   "metadata": {},
   "outputs": [],
   "source": [
    "train_interactions, _ = dataset.build_interactions(((row[\"question_id\"], row[\"user_id\"])\n",
    "                                                      for index, row in train.iterrows()))\n",
    "test_interactions, _ = dataset.build_interactions(((row[\"question_id\"], row[\"user_id\"])\n",
    "                                                      for index, row in test.iterrows()))\n",
    "test_ws_interactions, _ = dataset.build_interactions(((row[\"question_id\"], row[\"user_id\"])\n",
    "                                                      for index, row in test_ws.iterrows()))\n",
    "test_cs_interactions, _ = dataset.build_interactions(((row[\"question_id\"], row[\"user_id\"])\n",
    "                                                      for index, row in test_cs.iterrows()))\n",
    "eval_interactions, _ = dataset.build_interactions(((row[\"question_id\"], row[\"user_id\"])\n",
    "                                                      for index, row in eval_ds.iterrows()))"
   ]
  },
  {
   "cell_type": "markdown",
   "id": "81e6bb4c-6795-4bd5-8f89-9538d6b9e836",
   "metadata": {},
   "source": [
    "#### Train model"
   ]
  },
  {
   "cell_type": "code",
   "execution_count": 49,
   "id": "7f64dc0a-bb14-4242-aa88-f31489da4a47",
   "metadata": {},
   "outputs": [],
   "source": [
    "NUM_THREADS=4\n",
    "NUM_EPOCHS=10\n",
    "K=5"
   ]
  },
  {
   "cell_type": "code",
   "execution_count": 50,
   "id": "d0dee893-980a-4dfe-a896-d3bc2cfaf227",
   "metadata": {},
   "outputs": [],
   "source": [
    "from lightfm import LightFM\n",
    "\n",
    "\n",
    "model_equal_weight = LightFM(loss='warp', random_state=random_state, no_components=32)\n",
    "\n",
    "# output1, _ = track_model_metrics(model=model, \n",
    "#                                  train_interactions=train_interactions, \n",
    "#                                  test_interactions=eval_interactions, \n",
    "#                                  k=K,\n",
    "#                                  no_epochs=NUM_EPOCHS, \n",
    "#                                  no_threads=NUM_THREADS)"
   ]
  },
  {
   "cell_type": "code",
   "execution_count": 51,
   "id": "149cde54-3a50-468f-95c7-fece443bf118",
   "metadata": {},
   "outputs": [
    {
     "name": "stderr",
     "output_type": "stream",
     "text": [
      "Epoch: 100%|████████████████████████████████████████████████████████████████████████████████████████████████████████████████████████████████████████| 10/10 [00:01<00:00,  6.05it/s]\n"
     ]
    },
    {
     "data": {
      "text/plain": [
       "<lightfm.lightfm.LightFM at 0x7fe8901bf8e0>"
      ]
     },
     "execution_count": 51,
     "metadata": {},
     "output_type": "execute_result"
    }
   ],
   "source": [
    "model_equal_weight.fit(train_interactions, verbose=True, epochs=NUM_EPOCHS)"
   ]
  },
  {
   "cell_type": "code",
   "execution_count": 53,
   "id": "7b9faad2-81ab-4ad1-9231-e21a309755ea",
   "metadata": {},
   "outputs": [
    {
     "name": "stdout",
     "output_type": "stream",
     "text": [
      "Collaborative filtering test AUC: 0.73596704\n",
      "Collaborative filtering test precision at k: 0.0073099416\n",
      "Collaborative filtering test warm_start AUC: 0.7329053\n",
      "Collaborative filtering test precision at k: 0.0089845825\n",
      "Collaborative filtering test cold_start AUC: 0.7390289\n",
      "Collaborative filtering test precision at k: 0.0056353007\n"
     ]
    }
   ],
   "source": [
    "# Import the evaluation routines\n",
    "from lightfm.evaluation import auc_score, precision_at_k\n",
    "\n",
    "# Compute and print the AUC score\n",
    "test_auc = auc_score(model_equal_weight, test_interactions, train_interactions=train_interactions, num_threads=NUM_THREADS).mean()\n",
    "print('Collaborative filtering test AUC: %s' % test_auc)\n",
    "\n",
    "test_precisionk = precision_at_k(model_equal_weight, test_interactions, train_interactions=train_interactions, k=10, num_threads=NUM_THREADS).mean()\n",
    "print('Collaborative filtering test precision at k: %s' % test_precisionk)\n",
    "\n",
    "test_ws_auc = auc_score(model_equal_weight, test_ws_interactions, train_interactions=train_interactions, num_threads=NUM_THREADS).mean()\n",
    "print('Collaborative filtering test warm_start AUC: %s' % test_ws_auc)\n",
    "\n",
    "test_ws_precisionk = precision_at_k(model_equal_weight, test_ws_interactions, train_interactions=train_interactions, k=10, num_threads=NUM_THREADS).mean()\n",
    "print('Collaborative filtering test precision at k: %s' % test_ws_precisionk)\n",
    "\n",
    "test_cs_auc = auc_score(model_equal_weight, test_cs_interactions, train_interactions=train_interactions, num_threads=NUM_THREADS).mean()\n",
    "print('Collaborative filtering test cold_start AUC: %s' % test_cs_auc)\n",
    "\n",
    "test_cs_precisionk = precision_at_k(model_equal_weight, test_cs_interactions, train_interactions=train_interactions, k=10, num_threads=NUM_THREADS).mean()\n",
    "print('Collaborative filtering test precision at k: %s' % test_cs_precisionk)"
   ]
  },
  {
   "cell_type": "markdown",
   "id": "fbcd045f-953e-4548-a3f2-742e8e8d5dc5",
   "metadata": {},
   "source": [
    "### Training with weights"
   ]
  },
  {
   "cell_type": "code",
   "execution_count": 54,
   "id": "fb7a1b12-6304-4e69-9820-7ca3ec868890",
   "metadata": {},
   "outputs": [],
   "source": [
    "train_interactions, train_weights = dataset.build_interactions(((row[\"question_id\"], row[\"user_id\"], row[\"score\"])\n",
    "                                                      for index, row in train.iterrows()))\n",
    "test_interactions, test_weights = dataset.build_interactions(((row[\"question_id\"], row[\"user_id\"], row[\"score\"])\n",
    "                                                      for index, row in test.iterrows()))\n",
    "test_ws_interactions, test_ws_weights = dataset.build_interactions(((row[\"question_id\"], row[\"user_id\"], row[\"score\"])\n",
    "                                                      for index, row in test_ws.iterrows()))\n",
    "test_cs_interactions, test_cs_weights = dataset.build_interactions(((row[\"question_id\"], row[\"user_id\"], row[\"score\"])\n",
    "                                                      for index, row in test_cs.iterrows()))\n",
    "eval_interactions, eval_weights = dataset.build_interactions(((row[\"question_id\"], row[\"user_id\"], row[\"score\"])\n",
    "                                                      for index, row in eval_ds.iterrows()))"
   ]
  },
  {
   "cell_type": "markdown",
   "id": "deb9b3c3-75e4-4aec-af33-f351bf934dc2",
   "metadata": {
    "tags": []
   },
   "source": [
    "#### Train model"
   ]
  },
  {
   "cell_type": "code",
   "execution_count": 55,
   "id": "a3eed9e5-3e66-4e47-a15b-c7c4f068c923",
   "metadata": {},
   "outputs": [],
   "source": [
    "NUM_THREADS=4\n",
    "NUM_EPOCHS=10\n",
    "K=5"
   ]
  },
  {
   "cell_type": "code",
   "execution_count": 56,
   "id": "9888c719-a7de-4c09-8169-c429ee710e36",
   "metadata": {},
   "outputs": [],
   "source": [
    "from lightfm import LightFM\n",
    "\n",
    "\n",
    "model_score_weight = LightFM(loss='warp', random_state=random_state, no_components=32)\n",
    "\n",
    "# output2, _ = track_model_metrics(model=model, \n",
    "#                                  train_interactions=train_interactions, \n",
    "#                                  test_interactions=eval_interactions, \n",
    "#                                  k=K,\n",
    "#                                  no_epochs=NUM_EPOCHS, \n",
    "#                                  no_threads=NUM_THREADS)"
   ]
  },
  {
   "cell_type": "code",
   "execution_count": 57,
   "id": "fe84cee6-8c45-4680-a550-6cc58924cc22",
   "metadata": {},
   "outputs": [
    {
     "name": "stderr",
     "output_type": "stream",
     "text": [
      "Epoch: 100%|████████████████████████████████████████████████████████████████████████████████████████████████████████████████████████████████████████| 10/10 [00:01<00:00,  7.55it/s]\n"
     ]
    },
    {
     "data": {
      "text/plain": [
       "<lightfm.lightfm.LightFM at 0x7fe7e31efbe0>"
      ]
     },
     "execution_count": 57,
     "metadata": {},
     "output_type": "execute_result"
    }
   ],
   "source": [
    "model_score_weight.fit(train_interactions, sample_weight=train_weights, verbose=True, epochs=NUM_EPOCHS)"
   ]
  },
  {
   "cell_type": "code",
   "execution_count": 58,
   "id": "aec1f618-5e05-4f74-a868-c811e5d5cd47",
   "metadata": {},
   "outputs": [
    {
     "name": "stdout",
     "output_type": "stream",
     "text": [
      "Collaborative filtering test AUC: 0.7310329\n",
      "Collaborative filtering test precision at k: 0.0071770335\n",
      "Collaborative filtering test warm_start AUC: 0.72916305\n",
      "Collaborative filtering test precision at k: 0.008984583\n",
      "Collaborative filtering test cold_start AUC: 0.73290265\n",
      "Collaborative filtering test precision at k: 0.0053694844\n"
     ]
    }
   ],
   "source": [
    "from lightfm.evaluation import auc_score, precision_at_k\n",
    "\n",
    "test_auc = auc_score(model_score_weight, test_interactions, train_interactions=train_interactions, num_threads=NUM_THREADS).mean()\n",
    "print('Collaborative filtering test AUC: %s' % test_auc)\n",
    "\n",
    "test_precisionk = precision_at_k(model_score_weight, test_interactions, train_interactions=train_interactions, k=10, num_threads=NUM_THREADS).mean()\n",
    "print('Collaborative filtering test precision at k: %s' % test_precisionk)\n",
    "\n",
    "test_ws_auc = auc_score(model_score_weight, test_ws_interactions, train_interactions=train_interactions, num_threads=NUM_THREADS).mean()\n",
    "print('Collaborative filtering test warm_start AUC: %s' % test_ws_auc)\n",
    "\n",
    "test_ws_precisionk = precision_at_k(model_score_weight, test_ws_interactions, train_interactions=train_interactions, k=10, num_threads=NUM_THREADS).mean()\n",
    "print('Collaborative filtering test precision at k: %s' % test_ws_precisionk)\n",
    "\n",
    "test_cs_auc = auc_score(model_score_weight, test_cs_interactions, train_interactions=train_interactions, num_threads=NUM_THREADS).mean()\n",
    "print('Collaborative filtering test cold_start AUC: %s' % test_cs_auc)\n",
    "\n",
    "test_cs_precisionk = precision_at_k(model_score_weight, test_cs_interactions, train_interactions=train_interactions, k=10, num_threads=NUM_THREADS).mean()\n",
    "print('Collaborative filtering test precision at k: %s' % test_cs_precisionk)"
   ]
  },
  {
   "cell_type": "markdown",
   "id": "f9488c36-a8b0-4ab2-a6d1-abc7e0b7b082",
   "metadata": {},
   "source": [
    "## Hybrid model"
   ]
  },
  {
   "cell_type": "code",
   "execution_count": 1,
   "id": "ea3f4577-88ca-4ee3-96fe-98bbd3f4cf7c",
   "metadata": {},
   "outputs": [
    {
     "name": "stderr",
     "output_type": "stream",
     "text": [
      "/home/okteto/user_recommendation/.venv/lib/python3.9/site-packages/tqdm/auto.py:22: TqdmWarning: IProgress not found. Please update jupyter and ipywidgets. See https://ipywidgets.readthedocs.io/en/stable/user_install.html\n",
      "  from .autonotebook import tqdm as notebook_tqdm\n"
     ]
    }
   ],
   "source": [
    "from utils import SERIALIZED_DATA_ARTIFACT_NAMES, read_data, track_model_metrics, prepare_all_predictions\n",
    "import pandas as pd\n",
    "import numpy as np"
   ]
  },
  {
   "cell_type": "code",
   "execution_count": 2,
   "id": "6797a5ed-b375-447f-be74-989f1e689b71",
   "metadata": {},
   "outputs": [],
   "source": [
    "random_state = 42"
   ]
  },
  {
   "cell_type": "markdown",
   "id": "0be533bb-1f8e-42e7-83f0-62b2fdb88a9d",
   "metadata": {},
   "source": [
    "### Get Datasets"
   ]
  },
  {
   "cell_type": "code",
   "execution_count": 3,
   "id": "b8bd9e5e-2591-4c0a-a6d0-da8140d44664",
   "metadata": {},
   "outputs": [],
   "source": [
    "# Load datasets containing all users and questions interactions\n",
    "answers = read_data(\"answers.json\")\n",
    "users = read_data(\"users.json\")\n",
    "questions = read_data(\"questions.json\")"
   ]
  },
  {
   "cell_type": "code",
   "execution_count": 4,
   "id": "b1440c65-8f09-4c8e-81da-40718c044bf3",
   "metadata": {},
   "outputs": [
    {
     "name": "stderr",
     "output_type": "stream",
     "text": [
      "/tmp/ipykernel_47673/1697412400.py:2: DtypeWarning: Columns (5,6,7,8,9) have mixed types. Specify dtype option on import or set low_memory=False.\n",
      "  users_features = pd.read_csv(\"../data/features/users_features.csv\")\n"
     ]
    }
   ],
   "source": [
    "# Load train test datasets\n",
    "users_features = pd.read_csv(\"../data/features/users_features.csv\")\n",
    "users_features.fillna(\"\", inplace=True)\n",
    "questions_features = pd.read_csv(\"../data/features/question_features.csv\")\n",
    "train = pd.read_csv(\"../\"+SERIALIZED_DATA_ARTIFACT_NAMES.path_to_train_dataset)\n",
    "test_cs = pd.read_csv(\"../\"+SERIALIZED_DATA_ARTIFACT_NAMES.path_to_test_cold_start_dataset)\n",
    "test_ws = pd.read_csv(\"../\"+SERIALIZED_DATA_ARTIFACT_NAMES.path_to_test_warm_start_dataset)\n",
    "eval_cs = pd.read_csv(\"../\"+SERIALIZED_DATA_ARTIFACT_NAMES.path_to_eval_cold_start_dataset)\n",
    "eval_ws = pd.read_csv(\"../\"+SERIALIZED_DATA_ARTIFACT_NAMES.path_to_eval_warm_start_dataset)\n",
    "test = pd.concat([test_cs, test_ws], ignore_index=True)\n",
    "eval_ds = pd.concat([eval_cs, eval_ws], ignore_index=True)"
   ]
  },
  {
   "cell_type": "code",
   "execution_count": 5,
   "id": "069d62c6-6806-41d6-af38-f7a8d82b6fc1",
   "metadata": {},
   "outputs": [
    {
     "data": {
      "text/plain": [
       "question_id      0\n",
       "tag1           121\n",
       "tag2           168\n",
       "tag3           166\n",
       "tag4            93\n",
       "tag5            69\n",
       "dtype: int64"
      ]
     },
     "execution_count": 5,
     "metadata": {},
     "output_type": "execute_result"
    }
   ],
   "source": [
    "questions_features.isna().sum()"
   ]
  },
  {
   "cell_type": "code",
   "execution_count": 6,
   "id": "b2a44bb0-7921-4b0f-a5cc-1eb154dc8380",
   "metadata": {},
   "outputs": [],
   "source": [
    "tags_column = [\"tag1\", \"tag2\", \"tag3\", \"tag4\", \"tag5\"]\n",
    "num_col = ['reputation','up_votes','down_votes','views']"
   ]
  },
  {
   "cell_type": "markdown",
   "id": "250d63e6-0c5c-44dc-bf59-0475506b5cc9",
   "metadata": {},
   "source": [
    "### Create LightFM Dataset"
   ]
  },
  {
   "cell_type": "code",
   "execution_count": 7,
   "id": "75732481-c559-4999-bf75-2f3250ffef66",
   "metadata": {},
   "outputs": [],
   "source": [
    "from lightfm.data import Dataset\n",
    "\n",
    "dataset = Dataset()\n",
    "dataset.fit((question_id for question_id in questions.question_id.tolist()),\n",
    "            (user_id for user_id in users.id.tolist()))"
   ]
  },
  {
   "cell_type": "code",
   "execution_count": 8,
   "id": "f141942a-bead-4975-9a40-564a8f9829e6",
   "metadata": {},
   "outputs": [
    {
     "name": "stdout",
     "output_type": "stream",
     "text": [
      "Num question: 100000, num_user 138698.\n"
     ]
    }
   ],
   "source": [
    "num_question, num_user = dataset.interactions_shape()\n",
    "print('Num question: {}, num_user {}.'.format(num_question, num_user))"
   ]
  },
  {
   "cell_type": "markdown",
   "id": "75cf74f5-6cc9-4310-b9e8-259c6c198436",
   "metadata": {},
   "source": [
    "Add information about users and questions"
   ]
  },
  {
   "cell_type": "code",
   "execution_count": 9,
   "id": "2ed5e9fd-b610-4e1d-ba07-79b8e1fc2e80",
   "metadata": {},
   "outputs": [],
   "source": [
    "\n",
    "dataset.fit_partial(users=(question_id for question_id in questions_features.question_id.tolist()),\n",
    "                    user_features=(pd.unique(questions_features[tags_column].values.ravel('K'))),\n",
    "                    items=(users_id for users_id in users_features.id.tolist()),\n",
    "                    item_features=(pd.unique(users_features[tags_column+num_col].values.ravel('K')))\n",
    "                    )"
   ]
  },
  {
   "cell_type": "markdown",
   "id": "146e1ff8-412c-4167-941e-7ccfed883e13",
   "metadata": {},
   "source": [
    "### Build interactions, user features and question features"
   ]
  },
  {
   "cell_type": "code",
   "execution_count": 10,
   "id": "579537b5-5f09-40bf-87fa-bb1e9418678a",
   "metadata": {},
   "outputs": [],
   "source": [
    "train_interactions, train_weights = dataset.build_interactions(((row[\"question_id\"], row[\"user_id\"], row[\"score\"])\n",
    "                                                      for index, row in train.iterrows()))\n",
    "test_interactions, test_weights = dataset.build_interactions(((row[\"question_id\"], row[\"user_id\"], row[\"score\"])\n",
    "                                                      for index, row in test.iterrows()))\n",
    "test_ws_interactions, test_ws_weights = dataset.build_interactions(((row[\"question_id\"], row[\"user_id\"], row[\"score\"])\n",
    "                                                      for index, row in test_ws.iterrows()))\n",
    "test_cs_interactions, test_cs_weights = dataset.build_interactions(((row[\"question_id\"], row[\"user_id\"], row[\"score\"])\n",
    "                                                      for index, row in test_cs.iterrows()))\n",
    "eval_interactions, eval_weights = dataset.build_interactions(((row[\"question_id\"], row[\"user_id\"], row[\"score\"])\n",
    "                                                      for index, row in eval_ds.iterrows()))"
   ]
  },
  {
   "cell_type": "code",
   "execution_count": 11,
   "id": "ed5e7681-b6b8-4e07-bd8c-7f4df9dc6ba8",
   "metadata": {},
   "outputs": [],
   "source": [
    "from typing import Optional, TypeVar\n",
    "\n",
    "COOMatrix = TypeVar(\"COOMatrix\")\n",
    "\n",
    "def get_questions_features(data: pd.DataFrame, dataset: Dataset, tags_column: list[str]) -> COOMatrix:\n",
    "    \"\"\"Build questions features from lightfm dataset and dataframe\n",
    "\n",
    "    Args:\n",
    "        data: interactions to build\n",
    "        dataset: light fm dataset\n",
    "\n",
    "    Returns:\n",
    "        COOMatrix: questions features matrix\n",
    "    \"\"\"\n",
    "    columns = [\"question_id\"] + tags_column\n",
    "    return dataset.build_user_features(((row[0], list(row[1:])) for row in data[columns].itertuples(index=False, name=None)))  # type: ignore\n",
    "\n",
    "\n",
    "def get_users_features(data: pd.DataFrame, dataset: Dataset, tags_column: list[str]) -> COOMatrix:\n",
    "    \"\"\"Build users features from lightfm dataset and dataframe\n",
    "\n",
    "    Args:\n",
    "        data: interactions to build\n",
    "        dataset: light fm dataset\n",
    "\n",
    "    Returns:\n",
    "        COOMatrix: users features matrix\n",
    "    \"\"\"\n",
    "    columns = [\"id\"] + tags_column + num_col\n",
    "    return dataset.build_item_features(((row[0], list(row[1:])) for row in data[columns].itertuples(index=False, name=None)))  # type: ignore"
   ]
  },
  {
   "cell_type": "code",
   "execution_count": 12,
   "id": "357f4505-5ef0-43d5-b2f9-4bed1926a519",
   "metadata": {},
   "outputs": [],
   "source": [
    "users_features_matrix = get_users_features(  # type: ignore\n",
    "            data=users_features, dataset=dataset, tags_column=tags_column+num_col\n",
    "        )"
   ]
  },
  {
   "cell_type": "code",
   "execution_count": 13,
   "id": "f80a8364-c3b5-43c2-a354-10422c4f73a9",
   "metadata": {},
   "outputs": [],
   "source": [
    "questions_features_matrix = get_questions_features(  # type: ignore\n",
    "            data=questions_features, dataset=dataset, tags_column=tags_column\n",
    "        )"
   ]
  },
  {
   "cell_type": "markdown",
   "id": "aeaa2e8c-b8a5-4ed8-a0ea-5a008e8a125b",
   "metadata": {},
   "source": [
    "### Training with weights"
   ]
  },
  {
   "cell_type": "markdown",
   "id": "38161caf-6a8d-478b-9d53-94395ec435ea",
   "metadata": {
    "tags": []
   },
   "source": [
    "#### Train model"
   ]
  },
  {
   "cell_type": "code",
   "execution_count": 27,
   "id": "c4b21475-f9b1-46c3-8939-eb6369c227db",
   "metadata": {},
   "outputs": [],
   "source": [
    "NUM_THREADS=4\n",
    "NUM_EPOCHS=10\n",
    "K=5"
   ]
  },
  {
   "cell_type": "code",
   "execution_count": 28,
   "id": "73ee65a4-67fd-4b7e-9a2c-d4ab88f8737d",
   "metadata": {},
   "outputs": [],
   "source": [
    "from lightfm import LightFM\n",
    "\n",
    "\n",
    "model_hybrid = LightFM(loss='warp', random_state=random_state, no_components=32)\n",
    "\n",
    "# output3, _ = track_model_metrics(model=model, \n",
    "#                                  train_interactions=train_interactions, \n",
    "#                                  test_interactions=eval_interactions, \n",
    "#                                  k=K,\n",
    "#                                  no_epochs=NUM_EPOCHS, \n",
    "#                                  no_threads=NUM_THREADS)"
   ]
  },
  {
   "cell_type": "code",
   "execution_count": 29,
   "id": "f3167404-2fed-49d1-971b-00c5b8e94b82",
   "metadata": {},
   "outputs": [
    {
     "name": "stderr",
     "output_type": "stream",
     "text": [
      "Epoch: 100%|████████████████████████████████████████████████████████████████████████████████████████████████████████████████████████████████████████| 10/10 [00:04<00:00,  2.28it/s]\n"
     ]
    },
    {
     "data": {
      "text/plain": [
       "<lightfm.lightfm.LightFM at 0x7f594820cb80>"
      ]
     },
     "execution_count": 29,
     "metadata": {},
     "output_type": "execute_result"
    }
   ],
   "source": [
    "model_hybrid.fit(train_interactions, sample_weight=train_weights, verbose=True, epochs=NUM_EPOCHS, item_features=users_features_matrix, user_features=questions_features_matrix)"
   ]
  },
  {
   "cell_type": "code",
   "execution_count": 30,
   "id": "e32ebdc6-28af-4cd2-b2bb-692304f701c3",
   "metadata": {},
   "outputs": [
    {
     "name": "stdout",
     "output_type": "stream",
     "text": [
      "Hybrid test AUC: 0.8304192\n",
      "Hybrid test precision at k: 0.007123871\n",
      "Hybrid test warm_start AUC: 0.82303596\n",
      "Hybrid test precision at k: 0.00909091\n",
      "Hybrid test cold_start AUC: 0.83780235\n",
      "Hybrid test precision at k: 0.005156832\n"
     ]
    }
   ],
   "source": [
    "from lightfm.evaluation import auc_score, precision_at_k\n",
    "\n",
    "test_auc = auc_score(model_hybrid, test_interactions, train_interactions=train_interactions, item_features=users_features_matrix, user_features=questions_features_matrix, num_threads=NUM_THREADS).mean()\n",
    "print('Hybrid test AUC: %s' % test_auc)\n",
    "\n",
    "test_precisionk = precision_at_k(model_hybrid, test_interactions, train_interactions=train_interactions, k=10, item_features=users_features_matrix, user_features=questions_features_matrix, num_threads=NUM_THREADS).mean()\n",
    "print('Hybrid test precision at k: %s' % test_precisionk)\n",
    "\n",
    "test_ws_auc = auc_score(model_hybrid, test_ws_interactions, train_interactions=train_interactions, item_features=users_features_matrix, user_features=questions_features_matrix, num_threads=NUM_THREADS).mean()\n",
    "print('Hybrid test warm_start AUC: %s' % test_ws_auc)\n",
    "\n",
    "test_ws_precisionk = precision_at_k(model_hybrid, test_ws_interactions, train_interactions=train_interactions, k=10, item_features=users_features_matrix, user_features=questions_features_matrix, num_threads=NUM_THREADS).mean()\n",
    "print('Hybrid test precision at k: %s' % test_ws_precisionk)\n",
    "\n",
    "test_cs_auc = auc_score(model_hybrid, test_cs_interactions, train_interactions=train_interactions, item_features=users_features_matrix, user_features=questions_features_matrix, num_threads=NUM_THREADS).mean()\n",
    "print('Hybrid test cold_start AUC: %s' % test_cs_auc)\n",
    "\n",
    "test_cs_precisionk = precision_at_k(model_hybrid, test_cs_interactions, train_interactions=train_interactions, k=10, item_features=users_features_matrix, user_features=questions_features_matrix, num_threads=NUM_THREADS).mean()\n",
    "print('Hybrid test precision at k: %s' % test_cs_precisionk)"
   ]
  },
  {
   "cell_type": "code",
   "execution_count": null,
   "id": "9d02ecfa-a034-4583-8c55-19488cba7b46",
   "metadata": {},
   "outputs": [],
   "source": []
  }
 ],
 "metadata": {
  "kernelspec": {
   "display_name": "Python 3 (ipykernel)",
   "language": "python",
   "name": "python3"
  },
  "language_info": {
   "codemirror_mode": {
    "name": "ipython",
    "version": 3
   },
   "file_extension": ".py",
   "mimetype": "text/x-python",
   "name": "python",
   "nbconvert_exporter": "python",
   "pygments_lexer": "ipython3",
   "version": "3.9.13"
  },
  "toc-autonumbering": true,
  "vscode": {
   "interpreter": {
    "hash": "2dd13013876a1d7470fc843b8bc768740760e1c76709b73bedcea43e3c5fb68e"
   }
  }
 },
 "nbformat": 4,
 "nbformat_minor": 5
}
