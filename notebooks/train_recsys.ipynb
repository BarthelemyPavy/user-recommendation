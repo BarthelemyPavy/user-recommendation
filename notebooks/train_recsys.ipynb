{
 "cells": [
  {
   "cell_type": "markdown",
   "id": "571e861e-70d7-437e-87f0-8e64d5ba02e2",
   "metadata": {},
   "source": [
    "# Recommender System Training - LightFM\n",
    "\n",
    "In this notebook we will train recommender system in order to map users susceptible answer to a question."
   ]
  },
  {
   "cell_type": "code",
   "execution_count": 1,
   "id": "386ef10b-ea9d-4a3b-a5da-792279d5e4a8",
   "metadata": {},
   "outputs": [
    {
     "name": "stderr",
     "output_type": "stream",
     "text": [
      "/home/okteto/user_recommendation/.venv/lib/python3.9/site-packages/tqdm/auto.py:22: TqdmWarning: IProgress not found. Please update jupyter and ipywidgets. See https://ipywidgets.readthedocs.io/en/stable/user_install.html\n",
      "  from .autonotebook import tqdm as notebook_tqdm\n"
     ]
    }
   ],
   "source": [
    "from utils import SERIALIZED_DATA_ARTIFACT_NAMES, read_data, track_model_metrics, prepare_all_predictions\n",
    "import pandas as pd\n",
    "import numpy as np"
   ]
  },
  {
   "cell_type": "code",
   "execution_count": 2,
   "id": "ab0ee0fe-2098-4088-aadf-67f0f4bd6d5b",
   "metadata": {},
   "outputs": [],
   "source": [
    "random_state = 42"
   ]
  },
  {
   "cell_type": "markdown",
   "id": "1e83330d-dc21-43c5-8c56-1cc16c1c2ae0",
   "metadata": {},
   "source": [
    "## Pure CF model"
   ]
  },
  {
   "cell_type": "markdown",
   "id": "0d260a44-7e45-4249-a8e9-9ee4f13b9e7f",
   "metadata": {},
   "source": [
    "### Get Datasets"
   ]
  },
  {
   "cell_type": "code",
   "execution_count": 3,
   "id": "9d4a5a96-489b-45cc-97a5-20ba061c72a9",
   "metadata": {},
   "outputs": [],
   "source": [
    "# Load datasets containing all users and questions interactions\n",
    "answers = read_data(\"answers.json\")"
   ]
  },
  {
   "cell_type": "code",
   "execution_count": 4,
   "id": "f604ef4d-7745-429d-af81-4b9b8f598e1a",
   "metadata": {},
   "outputs": [],
   "source": [
    "# Load train test datasets\n",
    "train = pd.read_csv(\"../\"+SERIALIZED_DATA_ARTIFACT_NAMES.path_to_train_dataset)\n",
    "test_cs = pd.read_csv(\"../\"+SERIALIZED_DATA_ARTIFACT_NAMES.path_to_test_cold_start_dataset)\n",
    "test_ws = pd.read_csv(\"../\"+SERIALIZED_DATA_ARTIFACT_NAMES.path_to_test_warm_start_dataset)\n",
    "eval_cs = pd.read_csv(\"../\"+SERIALIZED_DATA_ARTIFACT_NAMES.path_to_eval_cold_start_dataset)\n",
    "eval_ws = pd.read_csv(\"../\"+SERIALIZED_DATA_ARTIFACT_NAMES.path_to_eval_warm_start_dataset)\n",
    "test = pd.concat([test_cs, test_ws], ignore_index=True)\n",
    "eval_ds = pd.concat([eval_cs, eval_ws], ignore_index=True)"
   ]
  },
  {
   "cell_type": "markdown",
   "id": "666d02ed-3afc-4046-bec0-ff2c630a60af",
   "metadata": {},
   "source": [
    "### Create LightFM Dataset"
   ]
  },
  {
   "cell_type": "code",
   "execution_count": 5,
   "id": "4b41ad27-b890-4efd-a4c7-b47c3dca5ac4",
   "metadata": {},
   "outputs": [],
   "source": [
    "from lightfm.data import Dataset\n",
    "\n",
    "dataset = Dataset()\n",
    "dataset.fit((question_id for question_id in answers.question_id.tolist()),\n",
    "            (user_id for user_id in answers.user_id.tolist()))"
   ]
  },
  {
   "cell_type": "code",
   "execution_count": 6,
   "id": "42cd1b30-29d2-4077-93a8-c99ef6d6f6c8",
   "metadata": {},
   "outputs": [
    {
     "name": "stdout",
     "output_type": "stream",
     "text": [
      "Num question: 71036, num_user 45471.\n"
     ]
    }
   ],
   "source": [
    "num_question, num_user = dataset.interactions_shape()\n",
    "print('Num question: {}, num_user {}.'.format(num_question, num_user))"
   ]
  },
  {
   "cell_type": "markdown",
   "id": "7f37eae3-6a3d-4326-86b8-6a31485e9f5a",
   "metadata": {},
   "source": [
    "### Training with equal weights\n",
    "\n",
    "Create interactions for each dataset to train and test model"
   ]
  },
  {
   "cell_type": "code",
   "execution_count": 7,
   "id": "12e42c7b-7049-4569-a5bc-05eab82e0b0f",
   "metadata": {},
   "outputs": [],
   "source": [
    "train_interactions, _ = dataset.build_interactions(((row[\"question_id\"], row[\"user_id\"])\n",
    "                                                      for index, row in train.iterrows()))\n",
    "test_interactions, _ = dataset.build_interactions(((row[\"question_id\"], row[\"user_id\"])\n",
    "                                                      for index, row in test.iterrows()))\n",
    "test_ws_interactions, _ = dataset.build_interactions(((row[\"question_id\"], row[\"user_id\"])\n",
    "                                                      for index, row in test_ws.iterrows()))\n",
    "test_cs_interactions, _ = dataset.build_interactions(((row[\"question_id\"], row[\"user_id\"])\n",
    "                                                      for index, row in test_cs.iterrows()))\n",
    "eval_interactions, _ = dataset.build_interactions(((row[\"question_id\"], row[\"user_id\"])\n",
    "                                                      for index, row in eval_ds.iterrows()))"
   ]
  },
  {
   "cell_type": "markdown",
   "id": "81e6bb4c-6795-4bd5-8f89-9538d6b9e836",
   "metadata": {},
   "source": [
    "#### Train model"
   ]
  },
  {
   "cell_type": "code",
   "execution_count": 8,
   "id": "7f64dc0a-bb14-4242-aa88-f31489da4a47",
   "metadata": {},
   "outputs": [],
   "source": [
    "NUM_THREADS=4\n",
    "NUM_EPOCHS=5\n",
    "K=5"
   ]
  },
  {
   "cell_type": "code",
   "execution_count": 9,
   "id": "d0dee893-980a-4dfe-a896-d3bc2cfaf227",
   "metadata": {},
   "outputs": [
    {
     "name": "stderr",
     "output_type": "stream",
     "text": [
      "2022-07-16 15:04:07,713 :: switch_backend :: DEBUG :: Loaded backend module://matplotlib_inline.backend_inline version unknown.\n",
      "2022-07-16 15:04:07,721 :: switch_backend :: DEBUG :: Loaded backend module://matplotlib_inline.backend_inline version unknown.\n",
      "2022-07-16 15:04:07,725 :: _findfont_cached :: DEBUG :: findfont: Matching sans\\-serif:style=normal:variant=normal:weight=normal:stretch=normal:size=10.0.\n",
      "2022-07-16 15:04:07,726 :: _findfont_cached :: DEBUG :: findfont: score(FontEntry(fname='/home/okteto/user_recommendation/.venv/lib/python3.9/site-packages/matplotlib/mpl-data/fonts/ttf/cmsy10.ttf', name='cmsy10', style='normal', variant='normal', weight=400, stretch='normal', size='scalable')) = 10.05\n",
      "2022-07-16 15:04:07,727 :: _findfont_cached :: DEBUG :: findfont: score(FontEntry(fname='/home/okteto/user_recommendation/.venv/lib/python3.9/site-packages/matplotlib/mpl-data/fonts/ttf/STIXNonUniBol.ttf', name='STIXNonUnicode', style='normal', variant='normal', weight=700, stretch='normal', size='scalable')) = 10.335\n",
      "2022-07-16 15:04:07,728 :: _findfont_cached :: DEBUG :: findfont: score(FontEntry(fname='/home/okteto/user_recommendation/.venv/lib/python3.9/site-packages/matplotlib/mpl-data/fonts/ttf/STIXSizFiveSymReg.ttf', name='STIXSizeFiveSym', style='normal', variant='normal', weight=400, stretch='normal', size='scalable')) = 10.05\n",
      "2022-07-16 15:04:07,729 :: _findfont_cached :: DEBUG :: findfont: score(FontEntry(fname='/home/okteto/user_recommendation/.venv/lib/python3.9/site-packages/matplotlib/mpl-data/fonts/ttf/DejaVuSerif.ttf', name='DejaVu Serif', style='normal', variant='normal', weight=400, stretch='normal', size='scalable')) = 10.05\n",
      "2022-07-16 15:04:07,730 :: _findfont_cached :: DEBUG :: findfont: score(FontEntry(fname='/home/okteto/user_recommendation/.venv/lib/python3.9/site-packages/matplotlib/mpl-data/fonts/ttf/cmr10.ttf', name='cmr10', style='normal', variant='normal', weight=400, stretch='normal', size='scalable')) = 10.05\n",
      "2022-07-16 15:04:07,731 :: _findfont_cached :: DEBUG :: findfont: score(FontEntry(fname='/home/okteto/user_recommendation/.venv/lib/python3.9/site-packages/matplotlib/mpl-data/fonts/ttf/DejaVuSerif-Italic.ttf', name='DejaVu Serif', style='italic', variant='normal', weight=400, stretch='normal', size='scalable')) = 11.05\n",
      "2022-07-16 15:04:07,732 :: _findfont_cached :: DEBUG :: findfont: score(FontEntry(fname='/home/okteto/user_recommendation/.venv/lib/python3.9/site-packages/matplotlib/mpl-data/fonts/ttf/STIXGeneral.ttf', name='STIXGeneral', style='normal', variant='normal', weight=400, stretch='normal', size='scalable')) = 10.05\n",
      "2022-07-16 15:04:07,733 :: _findfont_cached :: DEBUG :: findfont: score(FontEntry(fname='/home/okteto/user_recommendation/.venv/lib/python3.9/site-packages/matplotlib/mpl-data/fonts/ttf/STIXSizThreeSymReg.ttf', name='STIXSizeThreeSym', style='normal', variant='normal', weight=400, stretch='normal', size='scalable')) = 10.05\n",
      "2022-07-16 15:04:07,736 :: _findfont_cached :: DEBUG :: findfont: score(FontEntry(fname='/home/okteto/user_recommendation/.venv/lib/python3.9/site-packages/matplotlib/mpl-data/fonts/ttf/DejaVuSans-BoldOblique.ttf', name='DejaVu Sans', style='oblique', variant='normal', weight=700, stretch='normal', size='scalable')) = 1.335\n",
      "2022-07-16 15:04:07,737 :: _findfont_cached :: DEBUG :: findfont: score(FontEntry(fname='/home/okteto/user_recommendation/.venv/lib/python3.9/site-packages/matplotlib/mpl-data/fonts/ttf/STIXSizTwoSymReg.ttf', name='STIXSizeTwoSym', style='normal', variant='normal', weight=400, stretch='normal', size='scalable')) = 10.05\n",
      "2022-07-16 15:04:07,738 :: _findfont_cached :: DEBUG :: findfont: score(FontEntry(fname='/home/okteto/user_recommendation/.venv/lib/python3.9/site-packages/matplotlib/mpl-data/fonts/ttf/cmtt10.ttf', name='cmtt10', style='normal', variant='normal', weight=400, stretch='normal', size='scalable')) = 10.05\n",
      "2022-07-16 15:04:07,740 :: _findfont_cached :: DEBUG :: findfont: score(FontEntry(fname='/home/okteto/user_recommendation/.venv/lib/python3.9/site-packages/matplotlib/mpl-data/fonts/ttf/STIXNonUniIta.ttf', name='STIXNonUnicode', style='italic', variant='normal', weight=400, stretch='normal', size='scalable')) = 11.05\n",
      "2022-07-16 15:04:07,741 :: _findfont_cached :: DEBUG :: findfont: score(FontEntry(fname='/home/okteto/user_recommendation/.venv/lib/python3.9/site-packages/matplotlib/mpl-data/fonts/ttf/STIXGeneralBolIta.ttf', name='STIXGeneral', style='italic', variant='normal', weight=700, stretch='normal', size='scalable')) = 11.335\n",
      "2022-07-16 15:04:07,742 :: _findfont_cached :: DEBUG :: findfont: score(FontEntry(fname='/home/okteto/user_recommendation/.venv/lib/python3.9/site-packages/matplotlib/mpl-data/fonts/ttf/cmmi10.ttf', name='cmmi10', style='normal', variant='normal', weight=400, stretch='normal', size='scalable')) = 10.05\n",
      "2022-07-16 15:04:07,743 :: _findfont_cached :: DEBUG :: findfont: score(FontEntry(fname='/home/okteto/user_recommendation/.venv/lib/python3.9/site-packages/matplotlib/mpl-data/fonts/ttf/STIXSizFourSymReg.ttf', name='STIXSizeFourSym', style='normal', variant='normal', weight=400, stretch='normal', size='scalable')) = 10.05\n",
      "2022-07-16 15:04:07,744 :: _findfont_cached :: DEBUG :: findfont: score(FontEntry(fname='/home/okteto/user_recommendation/.venv/lib/python3.9/site-packages/matplotlib/mpl-data/fonts/ttf/STIXSizFourSymBol.ttf', name='STIXSizeFourSym', style='normal', variant='normal', weight=700, stretch='normal', size='scalable')) = 10.335\n",
      "2022-07-16 15:04:07,745 :: _findfont_cached :: DEBUG :: findfont: score(FontEntry(fname='/home/okteto/user_recommendation/.venv/lib/python3.9/site-packages/matplotlib/mpl-data/fonts/ttf/STIXSizOneSymReg.ttf', name='STIXSizeOneSym', style='normal', variant='normal', weight=400, stretch='normal', size='scalable')) = 10.05\n",
      "2022-07-16 15:04:07,747 :: _findfont_cached :: DEBUG :: findfont: score(FontEntry(fname='/home/okteto/user_recommendation/.venv/lib/python3.9/site-packages/matplotlib/mpl-data/fonts/ttf/STIXSizTwoSymBol.ttf', name='STIXSizeTwoSym', style='normal', variant='normal', weight=700, stretch='normal', size='scalable')) = 10.335\n",
      "2022-07-16 15:04:07,748 :: _findfont_cached :: DEBUG :: findfont: score(FontEntry(fname='/home/okteto/user_recommendation/.venv/lib/python3.9/site-packages/matplotlib/mpl-data/fonts/ttf/DejaVuSansMono-Oblique.ttf', name='DejaVu Sans Mono', style='oblique', variant='normal', weight=400, stretch='normal', size='scalable')) = 11.05\n",
      "2022-07-16 15:04:07,749 :: _findfont_cached :: DEBUG :: findfont: score(FontEntry(fname='/home/okteto/user_recommendation/.venv/lib/python3.9/site-packages/matplotlib/mpl-data/fonts/ttf/STIXSizThreeSymBol.ttf', name='STIXSizeThreeSym', style='normal', variant='normal', weight=700, stretch='normal', size='scalable')) = 10.335\n",
      "2022-07-16 15:04:07,750 :: _findfont_cached :: DEBUG :: findfont: score(FontEntry(fname='/home/okteto/user_recommendation/.venv/lib/python3.9/site-packages/matplotlib/mpl-data/fonts/ttf/DejaVuSans-Bold.ttf', name='DejaVu Sans', style='normal', variant='normal', weight=700, stretch='normal', size='scalable')) = 0.33499999999999996\n",
      "2022-07-16 15:04:07,751 :: _findfont_cached :: DEBUG :: findfont: score(FontEntry(fname='/home/okteto/user_recommendation/.venv/lib/python3.9/site-packages/matplotlib/mpl-data/fonts/ttf/DejaVuSerifDisplay.ttf', name='DejaVu Serif Display', style='normal', variant='normal', weight=400, stretch='normal', size='scalable')) = 10.05\n",
      "2022-07-16 15:04:07,752 :: _findfont_cached :: DEBUG :: findfont: score(FontEntry(fname='/home/okteto/user_recommendation/.venv/lib/python3.9/site-packages/matplotlib/mpl-data/fonts/ttf/DejaVuSansMono.ttf', name='DejaVu Sans Mono', style='normal', variant='normal', weight=400, stretch='normal', size='scalable')) = 10.05\n",
      "2022-07-16 15:04:07,753 :: _findfont_cached :: DEBUG :: findfont: score(FontEntry(fname='/home/okteto/user_recommendation/.venv/lib/python3.9/site-packages/matplotlib/mpl-data/fonts/ttf/DejaVuSerif-Bold.ttf', name='DejaVu Serif', style='normal', variant='normal', weight=700, stretch='normal', size='scalable')) = 10.335\n",
      "2022-07-16 15:04:07,754 :: _findfont_cached :: DEBUG :: findfont: score(FontEntry(fname='/home/okteto/user_recommendation/.venv/lib/python3.9/site-packages/matplotlib/mpl-data/fonts/ttf/STIXSizOneSymBol.ttf', name='STIXSizeOneSym', style='normal', variant='normal', weight=700, stretch='normal', size='scalable')) = 10.335\n",
      "2022-07-16 15:04:07,755 :: _findfont_cached :: DEBUG :: findfont: score(FontEntry(fname='/home/okteto/user_recommendation/.venv/lib/python3.9/site-packages/matplotlib/mpl-data/fonts/ttf/DejaVuSerif-BoldItalic.ttf', name='DejaVu Serif', style='italic', variant='normal', weight=700, stretch='normal', size='scalable')) = 11.335\n",
      "2022-07-16 15:04:07,756 :: _findfont_cached :: DEBUG :: findfont: score(FontEntry(fname='/home/okteto/user_recommendation/.venv/lib/python3.9/site-packages/matplotlib/mpl-data/fonts/ttf/cmss10.ttf', name='cmss10', style='normal', variant='normal', weight=400, stretch='normal', size='scalable')) = 10.05\n",
      "2022-07-16 15:04:07,757 :: _findfont_cached :: DEBUG :: findfont: score(FontEntry(fname='/home/okteto/user_recommendation/.venv/lib/python3.9/site-packages/matplotlib/mpl-data/fonts/ttf/STIXGeneralBol.ttf', name='STIXGeneral', style='normal', variant='normal', weight=700, stretch='normal', size='scalable')) = 10.335\n",
      "2022-07-16 15:04:07,758 :: _findfont_cached :: DEBUG :: findfont: score(FontEntry(fname='/home/okteto/user_recommendation/.venv/lib/python3.9/site-packages/matplotlib/mpl-data/fonts/ttf/DejaVuSansMono-BoldOblique.ttf', name='DejaVu Sans Mono', style='oblique', variant='normal', weight=700, stretch='normal', size='scalable')) = 11.335\n",
      "2022-07-16 15:04:07,759 :: _findfont_cached :: DEBUG :: findfont: score(FontEntry(fname='/home/okteto/user_recommendation/.venv/lib/python3.9/site-packages/matplotlib/mpl-data/fonts/ttf/STIXNonUniBolIta.ttf', name='STIXNonUnicode', style='italic', variant='normal', weight=700, stretch='normal', size='scalable')) = 11.335\n",
      "2022-07-16 15:04:07,759 :: _findfont_cached :: DEBUG :: findfont: score(FontEntry(fname='/home/okteto/user_recommendation/.venv/lib/python3.9/site-packages/matplotlib/mpl-data/fonts/ttf/STIXGeneralItalic.ttf', name='STIXGeneral', style='italic', variant='normal', weight=400, stretch='normal', size='scalable')) = 11.05\n",
      "2022-07-16 15:04:07,760 :: _findfont_cached :: DEBUG :: findfont: score(FontEntry(fname='/home/okteto/user_recommendation/.venv/lib/python3.9/site-packages/matplotlib/mpl-data/fonts/ttf/STIXNonUni.ttf', name='STIXNonUnicode', style='normal', variant='normal', weight=400, stretch='normal', size='scalable')) = 10.05\n",
      "2022-07-16 15:04:07,761 :: _findfont_cached :: DEBUG :: findfont: score(FontEntry(fname='/home/okteto/user_recommendation/.venv/lib/python3.9/site-packages/matplotlib/mpl-data/fonts/ttf/cmex10.ttf', name='cmex10', style='normal', variant='normal', weight=400, stretch='normal', size='scalable')) = 10.05\n",
      "2022-07-16 15:04:07,762 :: _findfont_cached :: DEBUG :: findfont: score(FontEntry(fname='/home/okteto/user_recommendation/.venv/lib/python3.9/site-packages/matplotlib/mpl-data/fonts/ttf/DejaVuSansDisplay.ttf', name='DejaVu Sans Display', style='normal', variant='normal', weight=400, stretch='normal', size='scalable')) = 10.05\n",
      "2022-07-16 15:04:07,763 :: _findfont_cached :: DEBUG :: findfont: score(FontEntry(fname='/home/okteto/user_recommendation/.venv/lib/python3.9/site-packages/matplotlib/mpl-data/fonts/ttf/DejaVuSansMono-Bold.ttf', name='DejaVu Sans Mono', style='normal', variant='normal', weight=700, stretch='normal', size='scalable')) = 10.335\n",
      "2022-07-16 15:04:07,764 :: _findfont_cached :: DEBUG :: findfont: score(FontEntry(fname='/home/okteto/user_recommendation/.venv/lib/python3.9/site-packages/matplotlib/mpl-data/fonts/ttf/DejaVuSans.ttf', name='DejaVu Sans', style='normal', variant='normal', weight=400, stretch='normal', size='scalable')) = 0.05\n",
      "2022-07-16 15:04:07,765 :: _findfont_cached :: DEBUG :: findfont: score(FontEntry(fname='/home/okteto/user_recommendation/.venv/lib/python3.9/site-packages/matplotlib/mpl-data/fonts/ttf/DejaVuSans-Oblique.ttf', name='DejaVu Sans', style='oblique', variant='normal', weight=400, stretch='normal', size='scalable')) = 1.05\n",
      "2022-07-16 15:04:07,766 :: _findfont_cached :: DEBUG :: findfont: score(FontEntry(fname='/home/okteto/user_recommendation/.venv/lib/python3.9/site-packages/matplotlib/mpl-data/fonts/ttf/cmb10.ttf', name='cmb10', style='normal', variant='normal', weight=400, stretch='normal', size='scalable')) = 10.05\n",
      "2022-07-16 15:04:07,767 :: _findfont_cached :: DEBUG :: findfont: score(FontEntry(fname='/usr/share/fonts/truetype/dejavu/DejaVuSerif-Bold.ttf', name='DejaVu Serif', style='normal', variant='normal', weight=700, stretch='normal', size='scalable')) = 10.335\n",
      "2022-07-16 15:04:07,768 :: _findfont_cached :: DEBUG :: findfont: score(FontEntry(fname='/usr/share/fonts/truetype/dejavu/DejaVuSans.ttf', name='DejaVu Sans', style='normal', variant='normal', weight=400, stretch='normal', size='scalable')) = 0.05\n",
      "2022-07-16 15:04:07,768 :: _findfont_cached :: DEBUG :: findfont: score(FontEntry(fname='/usr/share/fonts/truetype/dejavu/DejaVuSansMono.ttf', name='DejaVu Sans Mono', style='normal', variant='normal', weight=400, stretch='normal', size='scalable')) = 10.05\n",
      "2022-07-16 15:04:07,769 :: _findfont_cached :: DEBUG :: findfont: score(FontEntry(fname='/usr/share/fonts/truetype/dejavu/DejaVuSerif.ttf', name='DejaVu Serif', style='normal', variant='normal', weight=400, stretch='normal', size='scalable')) = 10.05\n",
      "2022-07-16 15:04:07,770 :: _findfont_cached :: DEBUG :: findfont: score(FontEntry(fname='/usr/share/fonts/truetype/dejavu/DejaVuSansMono-Bold.ttf', name='DejaVu Sans Mono', style='normal', variant='normal', weight=700, stretch='normal', size='scalable')) = 10.335\n",
      "2022-07-16 15:04:07,771 :: _findfont_cached :: DEBUG :: findfont: score(FontEntry(fname='/usr/share/fonts/truetype/dejavu/DejaVuSans-Bold.ttf', name='DejaVu Sans', style='normal', variant='normal', weight=700, stretch='normal', size='scalable')) = 0.33499999999999996\n",
      "2022-07-16 15:04:07,772 :: _findfont_cached :: DEBUG :: findfont: Matching sans\\-serif:style=normal:variant=normal:weight=normal:stretch=normal:size=10.0 to DejaVu Sans ('/home/okteto/user_recommendation/.venv/lib/python3.9/site-packages/matplotlib/mpl-data/fonts/ttf/DejaVuSans.ttf') with score of 0.050000.\n",
      "2022-07-16 15:04:07,840 :: _findfont_cached :: DEBUG :: findfont: Matching sans\\-serif:style=normal:variant=normal:weight=normal:stretch=normal:size=10.0.\n",
      "2022-07-16 15:04:07,841 :: _findfont_cached :: DEBUG :: findfont: score(FontEntry(fname='/home/okteto/user_recommendation/.venv/lib/python3.9/site-packages/matplotlib/mpl-data/fonts/ttf/cmsy10.ttf', name='cmsy10', style='normal', variant='normal', weight=400, stretch='normal', size='scalable')) = 10.05\n",
      "2022-07-16 15:04:07,843 :: _findfont_cached :: DEBUG :: findfont: score(FontEntry(fname='/home/okteto/user_recommendation/.venv/lib/python3.9/site-packages/matplotlib/mpl-data/fonts/ttf/STIXNonUniBol.ttf', name='STIXNonUnicode', style='normal', variant='normal', weight=700, stretch='normal', size='scalable')) = 10.335\n",
      "2022-07-16 15:04:07,844 :: _findfont_cached :: DEBUG :: findfont: score(FontEntry(fname='/home/okteto/user_recommendation/.venv/lib/python3.9/site-packages/matplotlib/mpl-data/fonts/ttf/STIXSizFiveSymReg.ttf', name='STIXSizeFiveSym', style='normal', variant='normal', weight=400, stretch='normal', size='scalable')) = 10.05\n",
      "2022-07-16 15:04:07,845 :: _findfont_cached :: DEBUG :: findfont: score(FontEntry(fname='/home/okteto/user_recommendation/.venv/lib/python3.9/site-packages/matplotlib/mpl-data/fonts/ttf/DejaVuSerif.ttf', name='DejaVu Serif', style='normal', variant='normal', weight=400, stretch='normal', size='scalable')) = 10.05\n",
      "2022-07-16 15:04:07,846 :: _findfont_cached :: DEBUG :: findfont: score(FontEntry(fname='/home/okteto/user_recommendation/.venv/lib/python3.9/site-packages/matplotlib/mpl-data/fonts/ttf/cmr10.ttf', name='cmr10', style='normal', variant='normal', weight=400, stretch='normal', size='scalable')) = 10.05\n",
      "2022-07-16 15:04:07,847 :: _findfont_cached :: DEBUG :: findfont: score(FontEntry(fname='/home/okteto/user_recommendation/.venv/lib/python3.9/site-packages/matplotlib/mpl-data/fonts/ttf/DejaVuSerif-Italic.ttf', name='DejaVu Serif', style='italic', variant='normal', weight=400, stretch='normal', size='scalable')) = 11.05\n",
      "2022-07-16 15:04:07,848 :: _findfont_cached :: DEBUG :: findfont: score(FontEntry(fname='/home/okteto/user_recommendation/.venv/lib/python3.9/site-packages/matplotlib/mpl-data/fonts/ttf/STIXGeneral.ttf', name='STIXGeneral', style='normal', variant='normal', weight=400, stretch='normal', size='scalable')) = 10.05\n",
      "2022-07-16 15:04:07,849 :: _findfont_cached :: DEBUG :: findfont: score(FontEntry(fname='/home/okteto/user_recommendation/.venv/lib/python3.9/site-packages/matplotlib/mpl-data/fonts/ttf/STIXSizThreeSymReg.ttf', name='STIXSizeThreeSym', style='normal', variant='normal', weight=400, stretch='normal', size='scalable')) = 10.05\n",
      "2022-07-16 15:04:07,849 :: _findfont_cached :: DEBUG :: findfont: score(FontEntry(fname='/home/okteto/user_recommendation/.venv/lib/python3.9/site-packages/matplotlib/mpl-data/fonts/ttf/DejaVuSans-BoldOblique.ttf', name='DejaVu Sans', style='oblique', variant='normal', weight=700, stretch='normal', size='scalable')) = 1.335\n",
      "2022-07-16 15:04:07,850 :: _findfont_cached :: DEBUG :: findfont: score(FontEntry(fname='/home/okteto/user_recommendation/.venv/lib/python3.9/site-packages/matplotlib/mpl-data/fonts/ttf/STIXSizTwoSymReg.ttf', name='STIXSizeTwoSym', style='normal', variant='normal', weight=400, stretch='normal', size='scalable')) = 10.05\n",
      "2022-07-16 15:04:07,851 :: _findfont_cached :: DEBUG :: findfont: score(FontEntry(fname='/home/okteto/user_recommendation/.venv/lib/python3.9/site-packages/matplotlib/mpl-data/fonts/ttf/cmtt10.ttf', name='cmtt10', style='normal', variant='normal', weight=400, stretch='normal', size='scalable')) = 10.05\n",
      "2022-07-16 15:04:07,852 :: _findfont_cached :: DEBUG :: findfont: score(FontEntry(fname='/home/okteto/user_recommendation/.venv/lib/python3.9/site-packages/matplotlib/mpl-data/fonts/ttf/STIXNonUniIta.ttf', name='STIXNonUnicode', style='italic', variant='normal', weight=400, stretch='normal', size='scalable')) = 11.05\n",
      "2022-07-16 15:04:07,853 :: _findfont_cached :: DEBUG :: findfont: score(FontEntry(fname='/home/okteto/user_recommendation/.venv/lib/python3.9/site-packages/matplotlib/mpl-data/fonts/ttf/STIXGeneralBolIta.ttf', name='STIXGeneral', style='italic', variant='normal', weight=700, stretch='normal', size='scalable')) = 11.335\n",
      "2022-07-16 15:04:07,854 :: _findfont_cached :: DEBUG :: findfont: score(FontEntry(fname='/home/okteto/user_recommendation/.venv/lib/python3.9/site-packages/matplotlib/mpl-data/fonts/ttf/cmmi10.ttf', name='cmmi10', style='normal', variant='normal', weight=400, stretch='normal', size='scalable')) = 10.05\n",
      "2022-07-16 15:04:07,855 :: _findfont_cached :: DEBUG :: findfont: score(FontEntry(fname='/home/okteto/user_recommendation/.venv/lib/python3.9/site-packages/matplotlib/mpl-data/fonts/ttf/STIXSizFourSymReg.ttf', name='STIXSizeFourSym', style='normal', variant='normal', weight=400, stretch='normal', size='scalable')) = 10.05\n",
      "2022-07-16 15:04:07,855 :: _findfont_cached :: DEBUG :: findfont: score(FontEntry(fname='/home/okteto/user_recommendation/.venv/lib/python3.9/site-packages/matplotlib/mpl-data/fonts/ttf/STIXSizFourSymBol.ttf', name='STIXSizeFourSym', style='normal', variant='normal', weight=700, stretch='normal', size='scalable')) = 10.335\n",
      "2022-07-16 15:04:07,856 :: _findfont_cached :: DEBUG :: findfont: score(FontEntry(fname='/home/okteto/user_recommendation/.venv/lib/python3.9/site-packages/matplotlib/mpl-data/fonts/ttf/STIXSizOneSymReg.ttf', name='STIXSizeOneSym', style='normal', variant='normal', weight=400, stretch='normal', size='scalable')) = 10.05\n",
      "2022-07-16 15:04:07,857 :: _findfont_cached :: DEBUG :: findfont: score(FontEntry(fname='/home/okteto/user_recommendation/.venv/lib/python3.9/site-packages/matplotlib/mpl-data/fonts/ttf/STIXSizTwoSymBol.ttf', name='STIXSizeTwoSym', style='normal', variant='normal', weight=700, stretch='normal', size='scalable')) = 10.335\n",
      "2022-07-16 15:04:07,858 :: _findfont_cached :: DEBUG :: findfont: score(FontEntry(fname='/home/okteto/user_recommendation/.venv/lib/python3.9/site-packages/matplotlib/mpl-data/fonts/ttf/DejaVuSansMono-Oblique.ttf', name='DejaVu Sans Mono', style='oblique', variant='normal', weight=400, stretch='normal', size='scalable')) = 11.05\n",
      "2022-07-16 15:04:07,859 :: _findfont_cached :: DEBUG :: findfont: score(FontEntry(fname='/home/okteto/user_recommendation/.venv/lib/python3.9/site-packages/matplotlib/mpl-data/fonts/ttf/STIXSizThreeSymBol.ttf', name='STIXSizeThreeSym', style='normal', variant='normal', weight=700, stretch='normal', size='scalable')) = 10.335\n",
      "2022-07-16 15:04:07,859 :: _findfont_cached :: DEBUG :: findfont: score(FontEntry(fname='/home/okteto/user_recommendation/.venv/lib/python3.9/site-packages/matplotlib/mpl-data/fonts/ttf/DejaVuSans-Bold.ttf', name='DejaVu Sans', style='normal', variant='normal', weight=700, stretch='normal', size='scalable')) = 0.33499999999999996\n",
      "2022-07-16 15:04:07,860 :: _findfont_cached :: DEBUG :: findfont: score(FontEntry(fname='/home/okteto/user_recommendation/.venv/lib/python3.9/site-packages/matplotlib/mpl-data/fonts/ttf/DejaVuSerifDisplay.ttf', name='DejaVu Serif Display', style='normal', variant='normal', weight=400, stretch='normal', size='scalable')) = 10.05\n",
      "2022-07-16 15:04:07,861 :: _findfont_cached :: DEBUG :: findfont: score(FontEntry(fname='/home/okteto/user_recommendation/.venv/lib/python3.9/site-packages/matplotlib/mpl-data/fonts/ttf/DejaVuSansMono.ttf', name='DejaVu Sans Mono', style='normal', variant='normal', weight=400, stretch='normal', size='scalable')) = 10.05\n",
      "2022-07-16 15:04:07,862 :: _findfont_cached :: DEBUG :: findfont: score(FontEntry(fname='/home/okteto/user_recommendation/.venv/lib/python3.9/site-packages/matplotlib/mpl-data/fonts/ttf/DejaVuSerif-Bold.ttf', name='DejaVu Serif', style='normal', variant='normal', weight=700, stretch='normal', size='scalable')) = 10.335\n",
      "2022-07-16 15:04:07,863 :: _findfont_cached :: DEBUG :: findfont: score(FontEntry(fname='/home/okteto/user_recommendation/.venv/lib/python3.9/site-packages/matplotlib/mpl-data/fonts/ttf/STIXSizOneSymBol.ttf', name='STIXSizeOneSym', style='normal', variant='normal', weight=700, stretch='normal', size='scalable')) = 10.335\n",
      "2022-07-16 15:04:07,864 :: _findfont_cached :: DEBUG :: findfont: score(FontEntry(fname='/home/okteto/user_recommendation/.venv/lib/python3.9/site-packages/matplotlib/mpl-data/fonts/ttf/DejaVuSerif-BoldItalic.ttf', name='DejaVu Serif', style='italic', variant='normal', weight=700, stretch='normal', size='scalable')) = 11.335\n",
      "2022-07-16 15:04:07,864 :: _findfont_cached :: DEBUG :: findfont: score(FontEntry(fname='/home/okteto/user_recommendation/.venv/lib/python3.9/site-packages/matplotlib/mpl-data/fonts/ttf/cmss10.ttf', name='cmss10', style='normal', variant='normal', weight=400, stretch='normal', size='scalable')) = 10.05\n",
      "2022-07-16 15:04:07,865 :: _findfont_cached :: DEBUG :: findfont: score(FontEntry(fname='/home/okteto/user_recommendation/.venv/lib/python3.9/site-packages/matplotlib/mpl-data/fonts/ttf/STIXGeneralBol.ttf', name='STIXGeneral', style='normal', variant='normal', weight=700, stretch='normal', size='scalable')) = 10.335\n",
      "2022-07-16 15:04:07,866 :: _findfont_cached :: DEBUG :: findfont: score(FontEntry(fname='/home/okteto/user_recommendation/.venv/lib/python3.9/site-packages/matplotlib/mpl-data/fonts/ttf/DejaVuSansMono-BoldOblique.ttf', name='DejaVu Sans Mono', style='oblique', variant='normal', weight=700, stretch='normal', size='scalable')) = 11.335\n",
      "2022-07-16 15:04:07,867 :: _findfont_cached :: DEBUG :: findfont: score(FontEntry(fname='/home/okteto/user_recommendation/.venv/lib/python3.9/site-packages/matplotlib/mpl-data/fonts/ttf/STIXNonUniBolIta.ttf', name='STIXNonUnicode', style='italic', variant='normal', weight=700, stretch='normal', size='scalable')) = 11.335\n",
      "2022-07-16 15:04:07,868 :: _findfont_cached :: DEBUG :: findfont: score(FontEntry(fname='/home/okteto/user_recommendation/.venv/lib/python3.9/site-packages/matplotlib/mpl-data/fonts/ttf/STIXGeneralItalic.ttf', name='STIXGeneral', style='italic', variant='normal', weight=400, stretch='normal', size='scalable')) = 11.05\n",
      "2022-07-16 15:04:07,869 :: _findfont_cached :: DEBUG :: findfont: score(FontEntry(fname='/home/okteto/user_recommendation/.venv/lib/python3.9/site-packages/matplotlib/mpl-data/fonts/ttf/STIXNonUni.ttf', name='STIXNonUnicode', style='normal', variant='normal', weight=400, stretch='normal', size='scalable')) = 10.05\n",
      "2022-07-16 15:04:07,869 :: _findfont_cached :: DEBUG :: findfont: score(FontEntry(fname='/home/okteto/user_recommendation/.venv/lib/python3.9/site-packages/matplotlib/mpl-data/fonts/ttf/cmex10.ttf', name='cmex10', style='normal', variant='normal', weight=400, stretch='normal', size='scalable')) = 10.05\n",
      "2022-07-16 15:04:07,870 :: _findfont_cached :: DEBUG :: findfont: score(FontEntry(fname='/home/okteto/user_recommendation/.venv/lib/python3.9/site-packages/matplotlib/mpl-data/fonts/ttf/DejaVuSansDisplay.ttf', name='DejaVu Sans Display', style='normal', variant='normal', weight=400, stretch='normal', size='scalable')) = 10.05\n",
      "2022-07-16 15:04:07,871 :: _findfont_cached :: DEBUG :: findfont: score(FontEntry(fname='/home/okteto/user_recommendation/.venv/lib/python3.9/site-packages/matplotlib/mpl-data/fonts/ttf/DejaVuSansMono-Bold.ttf', name='DejaVu Sans Mono', style='normal', variant='normal', weight=700, stretch='normal', size='scalable')) = 10.335\n",
      "2022-07-16 15:04:07,872 :: _findfont_cached :: DEBUG :: findfont: score(FontEntry(fname='/home/okteto/user_recommendation/.venv/lib/python3.9/site-packages/matplotlib/mpl-data/fonts/ttf/DejaVuSans.ttf', name='DejaVu Sans', style='normal', variant='normal', weight=400, stretch='normal', size='scalable')) = 0.05\n",
      "2022-07-16 15:04:07,873 :: _findfont_cached :: DEBUG :: findfont: score(FontEntry(fname='/home/okteto/user_recommendation/.venv/lib/python3.9/site-packages/matplotlib/mpl-data/fonts/ttf/DejaVuSans-Oblique.ttf', name='DejaVu Sans', style='oblique', variant='normal', weight=400, stretch='normal', size='scalable')) = 1.05\n",
      "2022-07-16 15:04:07,874 :: _findfont_cached :: DEBUG :: findfont: score(FontEntry(fname='/home/okteto/user_recommendation/.venv/lib/python3.9/site-packages/matplotlib/mpl-data/fonts/ttf/cmb10.ttf', name='cmb10', style='normal', variant='normal', weight=400, stretch='normal', size='scalable')) = 10.05\n",
      "2022-07-16 15:04:07,874 :: _findfont_cached :: DEBUG :: findfont: score(FontEntry(fname='/usr/share/fonts/truetype/dejavu/DejaVuSerif-Bold.ttf', name='DejaVu Serif', style='normal', variant='normal', weight=700, stretch='normal', size='scalable')) = 10.335\n",
      "2022-07-16 15:04:07,875 :: _findfont_cached :: DEBUG :: findfont: score(FontEntry(fname='/usr/share/fonts/truetype/dejavu/DejaVuSans.ttf', name='DejaVu Sans', style='normal', variant='normal', weight=400, stretch='normal', size='scalable')) = 0.05\n",
      "2022-07-16 15:04:07,876 :: _findfont_cached :: DEBUG :: findfont: score(FontEntry(fname='/usr/share/fonts/truetype/dejavu/DejaVuSansMono.ttf', name='DejaVu Sans Mono', style='normal', variant='normal', weight=400, stretch='normal', size='scalable')) = 10.05\n",
      "2022-07-16 15:04:07,877 :: _findfont_cached :: DEBUG :: findfont: score(FontEntry(fname='/usr/share/fonts/truetype/dejavu/DejaVuSerif.ttf', name='DejaVu Serif', style='normal', variant='normal', weight=400, stretch='normal', size='scalable')) = 10.05\n",
      "2022-07-16 15:04:07,878 :: _findfont_cached :: DEBUG :: findfont: score(FontEntry(fname='/usr/share/fonts/truetype/dejavu/DejaVuSansMono-Bold.ttf', name='DejaVu Sans Mono', style='normal', variant='normal', weight=700, stretch='normal', size='scalable')) = 10.335\n",
      "2022-07-16 15:04:07,879 :: _findfont_cached :: DEBUG :: findfont: score(FontEntry(fname='/usr/share/fonts/truetype/dejavu/DejaVuSans-Bold.ttf', name='DejaVu Sans', style='normal', variant='normal', weight=700, stretch='normal', size='scalable')) = 0.33499999999999996\n",
      "2022-07-16 15:04:07,879 :: _findfont_cached :: DEBUG :: findfont: Matching sans\\-serif:style=normal:variant=normal:weight=normal:stretch=normal:size=10.0 to DejaVu Sans ('/home/okteto/user_recommendation/.venv/lib/python3.9/site-packages/matplotlib/mpl-data/fonts/ttf/DejaVuSans.ttf') with score of 0.050000.\n",
      "2022-07-16 15:04:08,145 :: _update_title_position :: DEBUG :: top of Axes not in the figure, so title not moved\n",
      "2022-07-16 15:04:08,197 :: _update_title_position :: DEBUG :: top of Axes not in the figure, so title not moved\n",
      "2022-07-16 15:04:08,232 :: _update_title_position :: DEBUG :: top of Axes not in the figure, so title not moved\n",
      "2022-07-16 15:04:08,334 :: _update_title_position :: DEBUG :: top of Axes not in the figure, so title not moved\n",
      "2022-07-16 15:04:08,455 :: _update_title_position :: DEBUG :: top of Axes not in the figure, so title not moved\n",
      "2022-07-16 15:04:08,548 :: _update_title_position :: DEBUG :: top of Axes not in the figure, so title not moved\n",
      "2022-07-16 15:04:08,617 :: _update_title_position :: DEBUG :: top of Axes not in the figure, so title not moved\n",
      "2022-07-16 15:04:08,651 :: _update_title_position :: DEBUG :: top of Axes not in the figure, so title not moved\n"
     ]
    },
    {
     "data": {
      "image/png": "[encoded data removed]",
      "text/plain": [
       "<Figure size 491.375x432 with 3 Axes>"
      ]
     },
     "metadata": {
      "needs_background": "light"
     },
     "output_type": "display_data"
    }
   ],
   "source": [
    "from lightfm import LightFM\n",
    "\n",
    "\n",
    "model = LightFM(loss='warp', random_state=random_state)\n",
    "\n",
    "output1, _ = track_model_metrics(model=model, \n",
    "                                 train_interactions=train_interactions, \n",
    "                                 test_interactions=eval_interactions, \n",
    "                                 k=K,\n",
    "                                 no_epochs=NUM_EPOCHS, \n",
    "                                 no_threads=NUM_THREADS)"
   ]
  },
  {
   "cell_type": "code",
   "execution_count": 10,
   "id": "149cde54-3a50-468f-95c7-fece443bf118",
   "metadata": {},
   "outputs": [
    {
     "name": "stderr",
     "output_type": "stream",
     "text": [
      "Epoch: 100%|██████████████████████████████████████████████████████████████████████████████████████████████████████████████████████████████████████████████████████████████| 1/1 [00:00<00:00, 19.28it/s]\n"
     ]
    },
    {
     "data": {
      "text/plain": [
       "<lightfm.lightfm.LightFM at 0x7f189424c460>"
      ]
     },
     "execution_count": 10,
     "metadata": {},
     "output_type": "execute_result"
    }
   ],
   "source": [
    "model.fit(train_interactions, verbose=True, epochs=1)"
   ]
  },
  {
   "cell_type": "code",
   "execution_count": 11,
   "id": "7b9faad2-81ab-4ad1-9231-e21a309755ea",
   "metadata": {},
   "outputs": [
    {
     "name": "stdout",
     "output_type": "stream",
     "text": [
      "Collaborative filtering test AUC: 0.6244458\n",
      "Collaborative filtering test warm_start AUC: 0.6167703\n",
      "Collaborative filtering test cold_start AUC: 0.6321211\n"
     ]
    }
   ],
   "source": [
    "# Import the evaluation routines\n",
    "from lightfm.evaluation import auc_score\n",
    "\n",
    "# Compute and print the AUC score\n",
    "test_auc = auc_score(model, test_interactions, train_interactions=train_interactions, num_threads=NUM_THREADS).mean()\n",
    "print('Collaborative filtering test AUC: %s' % test_auc)\n",
    "\n",
    "test_ws_auc = auc_score(model, test_ws_interactions, train_interactions=train_interactions, num_threads=NUM_THREADS).mean()\n",
    "print('Collaborative filtering test warm_start AUC: %s' % test_ws_auc)\n",
    "\n",
    "test_cs_auc = auc_score(model, test_cs_interactions, train_interactions=train_interactions, num_threads=NUM_THREADS).mean()\n",
    "print('Collaborative filtering test cold_start AUC: %s' % test_cs_auc)"
   ]
  },
  {
   "cell_type": "markdown",
   "id": "fbcd045f-953e-4548-a3f2-742e8e8d5dc5",
   "metadata": {},
   "source": [
    "### Training with weights"
   ]
  },
  {
   "cell_type": "code",
   "execution_count": 12,
   "id": "fb7a1b12-6304-4e69-9820-7ca3ec868890",
   "metadata": {},
   "outputs": [],
   "source": [
    "train_interactions, train_weights = dataset.build_interactions(((row[\"question_id\"], row[\"user_id\"], row[\"score\"])\n",
    "                                                      for index, row in train.iterrows()))\n",
    "test_interactions, test_weights = dataset.build_interactions(((row[\"question_id\"], row[\"user_id\"], row[\"score\"])\n",
    "                                                      for index, row in test.iterrows()))\n",
    "test_ws_interactions, test_ws_weights = dataset.build_interactions(((row[\"question_id\"], row[\"user_id\"], row[\"score\"])\n",
    "                                                      for index, row in test_ws.iterrows()))\n",
    "test_cs_interactions, test_cs_weights = dataset.build_interactions(((row[\"question_id\"], row[\"user_id\"], row[\"score\"])\n",
    "                                                      for index, row in test_cs.iterrows()))\n",
    "eval_interactions, eval_weights = dataset.build_interactions(((row[\"question_id\"], row[\"user_id\"], row[\"score\"])\n",
    "                                                      for index, row in eval_ds.iterrows()))"
   ]
  },
  {
   "cell_type": "markdown",
   "id": "deb9b3c3-75e4-4aec-af33-f351bf934dc2",
   "metadata": {
    "tags": []
   },
   "source": [
    "#### Train model"
   ]
  },
  {
   "cell_type": "code",
   "execution_count": 13,
   "id": "a3eed9e5-3e66-4e47-a15b-c7c4f068c923",
   "metadata": {},
   "outputs": [],
   "source": [
    "NUM_THREADS=4\n",
    "NUM_EPOCHS=5\n",
    "K=5"
   ]
  },
  {
   "cell_type": "code",
   "execution_count": 14,
   "id": "9888c719-a7de-4c09-8169-c429ee710e36",
   "metadata": {},
   "outputs": [
    {
     "name": "stderr",
     "output_type": "stream",
     "text": [
      "2022-07-16 15:28:00,141 :: _update_title_position :: DEBUG :: top of Axes not in the figure, so title not moved\n",
      "2022-07-16 15:28:00,192 :: _update_title_position :: DEBUG :: top of Axes not in the figure, so title not moved\n",
      "2022-07-16 15:28:00,226 :: _update_title_position :: DEBUG :: top of Axes not in the figure, so title not moved\n",
      "2022-07-16 15:28:00,328 :: _update_title_position :: DEBUG :: top of Axes not in the figure, so title not moved\n",
      "2022-07-16 15:28:00,442 :: _update_title_position :: DEBUG :: top of Axes not in the figure, so title not moved\n",
      "2022-07-16 15:28:00,535 :: _update_title_position :: DEBUG :: top of Axes not in the figure, so title not moved\n",
      "2022-07-16 15:28:00,604 :: _update_title_position :: DEBUG :: top of Axes not in the figure, so title not moved\n",
      "2022-07-16 15:28:00,638 :: _update_title_position :: DEBUG :: top of Axes not in the figure, so title not moved\n"
     ]
    },
    {
     "data": {
      "image/png": "[encoded data removed]",
      "text/plain": [
       "<Figure size 682.5x600 with 3 Axes>"
      ]
     },
     "metadata": {},
     "output_type": "display_data"
    }
   ],
   "source": [
    "from lightfm import LightFM\n",
    "\n",
    "\n",
    "model = LightFM(loss='warp', random_state=random_state)\n",
    "\n",
    "output2, _ = track_model_metrics(model=model, \n",
    "                                 train_interactions=train_interactions, \n",
    "                                 test_interactions=eval_interactions, \n",
    "                                 k=K,\n",
    "                                 no_epochs=NUM_EPOCHS, \n",
    "                                 no_threads=NUM_THREADS)"
   ]
  },
  {
   "cell_type": "code",
   "execution_count": 15,
   "id": "fe84cee6-8c45-4680-a550-6cc58924cc22",
   "metadata": {},
   "outputs": [
    {
     "name": "stderr",
     "output_type": "stream",
     "text": [
      "Epoch: 100%|██████████████████████████████████████████████████████████████████████████████████████████████████████████████████████████████████████████████████████████████| 1/1 [00:00<00:00, 19.46it/s]\n"
     ]
    },
    {
     "data": {
      "text/plain": [
       "<lightfm.lightfm.LightFM at 0x7f18930b88b0>"
      ]
     },
     "execution_count": 15,
     "metadata": {},
     "output_type": "execute_result"
    }
   ],
   "source": [
    "model.fit(train_interactions, sample_weight=train_weights, verbose=True, epochs=1)"
   ]
  },
  {
   "cell_type": "code",
   "execution_count": 16,
   "id": "aec1f618-5e05-4f74-a868-c811e5d5cd47",
   "metadata": {},
   "outputs": [
    {
     "name": "stdout",
     "output_type": "stream",
     "text": [
      "Collaborative filtering test AUC: 0.6342798\n",
      "Collaborative filtering test warm_start AUC: 0.6314484\n",
      "Collaborative filtering test cold_start AUC: 0.6371113\n"
     ]
    }
   ],
   "source": [
    "test_auc = auc_score(model, test_interactions, train_interactions=train_interactions, num_threads=NUM_THREADS).mean()\n",
    "print('Collaborative filtering test AUC: %s' % test_auc)\n",
    "\n",
    "test_ws_auc = auc_score(model, test_ws_interactions, train_interactions=train_interactions, num_threads=NUM_THREADS).mean()\n",
    "print('Collaborative filtering test warm_start AUC: %s' % test_ws_auc)\n",
    "\n",
    "test_cs_auc = auc_score(model, test_cs_interactions, train_interactions=train_interactions, num_threads=NUM_THREADS).mean()\n",
    "print('Collaborative filtering test cold_start AUC: %s' % test_cs_auc)"
   ]
  },
  {
   "cell_type": "markdown",
   "id": "f9488c36-a8b0-4ab2-a6d1-abc7e0b7b082",
   "metadata": {},
   "source": [
    "## Hybrid model"
   ]
  },
  {
   "cell_type": "code",
   "execution_count": 1,
   "id": "ea3f4577-88ca-4ee3-96fe-98bbd3f4cf7c",
   "metadata": {},
   "outputs": [
    {
     "name": "stderr",
     "output_type": "stream",
     "text": [
      "/home/okteto/user_recommendation/.venv/lib/python3.9/site-packages/tqdm/auto.py:22: TqdmWarning: IProgress not found. Please update jupyter and ipywidgets. See https://ipywidgets.readthedocs.io/en/stable/user_install.html\n",
      "  from .autonotebook import tqdm as notebook_tqdm\n"
     ]
    }
   ],
   "source": [
    "from utils import SERIALIZED_DATA_ARTIFACT_NAMES, read_data, track_model_metrics, prepare_all_predictions\n",
    "import pandas as pd\n",
    "import numpy as np"
   ]
  },
  {
   "cell_type": "code",
   "execution_count": 2,
   "id": "6797a5ed-b375-447f-be74-989f1e689b71",
   "metadata": {},
   "outputs": [],
   "source": [
    "random_state = 42"
   ]
  },
  {
   "cell_type": "markdown",
   "id": "0be533bb-1f8e-42e7-83f0-62b2fdb88a9d",
   "metadata": {},
   "source": [
    "### Get Datasets"
   ]
  },
  {
   "cell_type": "code",
   "execution_count": 3,
   "id": "b8bd9e5e-2591-4c0a-a6d0-da8140d44664",
   "metadata": {},
   "outputs": [],
   "source": [
    "# Load datasets containing all users and questions interactions\n",
    "answers = read_data(\"answers.json\")"
   ]
  },
  {
   "cell_type": "code",
   "execution_count": 9,
   "id": "b1440c65-8f09-4c8e-81da-40718c044bf3",
   "metadata": {},
   "outputs": [
    {
     "name": "stderr",
     "output_type": "stream",
     "text": [
      "/tmp/ipykernel_48713/1836969902.py:2: DtypeWarning: Columns (5,6,7,8,9) have mixed types. Specify dtype option on import or set low_memory=False.\n",
      "  users_features = pd.read_csv(\"../data/features/users_features.csv\")\n"
     ]
    }
   ],
   "source": [
    "# Load train test datasets\n",
    "users_features = pd.read_csv(\"../data/features/users_features.csv\")\n",
    "questions_features = pd.read_csv(\"../data/features/question_features.csv\")\n",
    "train = pd.read_csv(\"../\"+SERIALIZED_DATA_ARTIFACT_NAMES.path_to_train_dataset)\n",
    "test_cs = pd.read_csv(\"../\"+SERIALIZED_DATA_ARTIFACT_NAMES.path_to_test_cold_start_dataset)\n",
    "test_ws = pd.read_csv(\"../\"+SERIALIZED_DATA_ARTIFACT_NAMES.path_to_test_warm_start_dataset)\n",
    "eval_cs = pd.read_csv(\"../\"+SERIALIZED_DATA_ARTIFACT_NAMES.path_to_eval_cold_start_dataset)\n",
    "eval_ws = pd.read_csv(\"../\"+SERIALIZED_DATA_ARTIFACT_NAMES.path_to_eval_warm_start_dataset)\n",
    "test = pd.concat([test_cs, test_ws], ignore_index=True)\n",
    "eval_ds = pd.concat([eval_cs, eval_ws], ignore_index=True)"
   ]
  },
  {
   "cell_type": "code",
   "execution_count": 20,
   "id": "b2a44bb0-7921-4b0f-a5cc-1eb154dc8380",
   "metadata": {},
   "outputs": [],
   "source": [
    "tags_column = [\"tag1\", \"tag2\", \"tag3\", \"tag4\", \"tag5\"]\n",
    "num_col = ['reputation','up_votes','down_votes','views']"
   ]
  },
  {
   "cell_type": "code",
   "execution_count": 23,
   "id": "6fcf09b6-13eb-4676-8047-037dfd8393e5",
   "metadata": {},
   "outputs": [
    {
     "data": {
      "text/plain": [
       "array([nan, 'fdsoi', 'ꮢսᏼꭹ', ..., 5631, 7167, 14591], dtype=object)"
      ]
     },
     "execution_count": 23,
     "metadata": {},
     "output_type": "execute_result"
    }
   ],
   "source": [
    "pd.unique(users_features[tags_column+num_col].values.ravel('K'))"
   ]
  },
  {
   "cell_type": "markdown",
   "id": "250d63e6-0c5c-44dc-bf59-0475506b5cc9",
   "metadata": {},
   "source": [
    "### Create LightFM Dataset"
   ]
  },
  {
   "cell_type": "code",
   "execution_count": 6,
   "id": "75732481-c559-4999-bf75-2f3250ffef66",
   "metadata": {},
   "outputs": [],
   "source": [
    "from lightfm.data import Dataset\n",
    "\n",
    "dataset = Dataset()\n",
    "dataset.fit((question_id for question_id in answers.question_id.tolist()),\n",
    "            (user_id for user_id in answers.user_id.tolist()))"
   ]
  },
  {
   "cell_type": "code",
   "execution_count": 7,
   "id": "f141942a-bead-4975-9a40-564a8f9829e6",
   "metadata": {},
   "outputs": [
    {
     "name": "stdout",
     "output_type": "stream",
     "text": [
      "Num question: 71036, num_user 45471.\n"
     ]
    }
   ],
   "source": [
    "num_question, num_user = dataset.interactions_shape()\n",
    "print('Num question: {}, num_user {}.'.format(num_question, num_user))"
   ]
  },
  {
   "cell_type": "markdown",
   "id": "75cf74f5-6cc9-4310-b9e8-259c6c198436",
   "metadata": {},
   "source": [
    "Add information about users and questions"
   ]
  },
  {
   "cell_type": "code",
   "execution_count": 8,
   "id": "2ed5e9fd-b610-4e1d-ba07-79b8e1fc2e80",
   "metadata": {},
   "outputs": [],
   "source": [
    "\n",
    "dataset.fit_partial(users=(question_id for question_id in questions_features.question_id.tolist()),\n",
    "                    user_features=(list(set(questions_features[tags_column].values.flatten()))),\n",
    "                    items=(users_id for users_id in users_features.id.tolist()),\n",
    "                    item_features=(list(set(users_features[tags_column+num_col].values.flatten()))))"
   ]
  },
  {
   "cell_type": "markdown",
   "id": "146e1ff8-412c-4167-941e-7ccfed883e13",
   "metadata": {},
   "source": [
    "### Build interactions, user features and question features"
   ]
  },
  {
   "cell_type": "code",
   "execution_count": 9,
   "id": "579537b5-5f09-40bf-87fa-bb1e9418678a",
   "metadata": {},
   "outputs": [],
   "source": [
    "train_interactions, train_weights = dataset.build_interactions(((row[\"question_id\"], row[\"user_id\"], row[\"score\"])\n",
    "                                                      for index, row in train.iterrows()))\n",
    "test_interactions, test_weights = dataset.build_interactions(((row[\"question_id\"], row[\"user_id\"], row[\"score\"])\n",
    "                                                      for index, row in test.iterrows()))\n",
    "test_ws_interactions, test_ws_weights = dataset.build_interactions(((row[\"question_id\"], row[\"user_id\"], row[\"score\"])\n",
    "                                                      for index, row in test_ws.iterrows()))\n",
    "test_cs_interactions, test_cs_weights = dataset.build_interactions(((row[\"question_id\"], row[\"user_id\"], row[\"score\"])\n",
    "                                                      for index, row in test_cs.iterrows()))\n",
    "eval_interactions, eval_weights = dataset.build_interactions(((row[\"question_id\"], row[\"user_id\"], row[\"score\"])\n",
    "                                                      for index, row in eval_ds.iterrows()))"
   ]
  },
  {
   "cell_type": "code",
   "execution_count": 10,
   "id": "ed5e7681-b6b8-4e07-bd8c-7f4df9dc6ba8",
   "metadata": {},
   "outputs": [],
   "source": [
    "from typing import Optional, TypeVar\n",
    "\n",
    "COOMatrix = TypeVar(\"COOMatrix\")\n",
    "\n",
    "def get_questions_features(data: pd.DataFrame, dataset: Dataset, tags_column: list[str]) -> COOMatrix:\n",
    "    \"\"\"Build questions features from lightfm dataset and dataframe\n",
    "\n",
    "    Args:\n",
    "        data: interactions to build\n",
    "        dataset: light fm dataset\n",
    "\n",
    "    Returns:\n",
    "        COOMatrix: questions features matrix\n",
    "    \"\"\"\n",
    "    columns = [\"question_id\"] + tags_column\n",
    "    return dataset.build_user_features(((row[0], list(row[1:])) for row in data[columns].itertuples(index=False, name=None)))  # type: ignore\n",
    "\n",
    "\n",
    "def get_users_features(data: pd.DataFrame, dataset: Dataset, tags_column: list[str]) -> COOMatrix:\n",
    "    \"\"\"Build users features from lightfm dataset and dataframe\n",
    "\n",
    "    Args:\n",
    "        data: interactions to build\n",
    "        dataset: light fm dataset\n",
    "\n",
    "    Returns:\n",
    "        COOMatrix: users features matrix\n",
    "    \"\"\"\n",
    "    columns = [\"id\"] + tags_column + num_col\n",
    "    return dataset.build_item_features(((row[0], list(row[1:])) for row in data[columns].itertuples(index=False, name=None)))  # type: ignore"
   ]
  },
  {
   "cell_type": "code",
   "execution_count": 11,
   "id": "357f4505-5ef0-43d5-b2f9-4bed1926a519",
   "metadata": {},
   "outputs": [],
   "source": [
    "users_features_matrix = get_users_features(  # type: ignore\n",
    "            data=users_features, dataset=dataset, tags_column=tags_column+num_col\n",
    "        )"
   ]
  },
  {
   "cell_type": "code",
   "execution_count": 12,
   "id": "f80a8364-c3b5-43c2-a354-10422c4f73a9",
   "metadata": {},
   "outputs": [],
   "source": [
    "questions_features_matrix = get_questions_features(  # type: ignore\n",
    "            data=questions_features, dataset=dataset, tags_column=tags_column\n",
    "        )"
   ]
  },
  {
   "cell_type": "markdown",
   "id": "aeaa2e8c-b8a5-4ed8-a0ea-5a008e8a125b",
   "metadata": {},
   "source": [
    "### Training with weights"
   ]
  },
  {
   "cell_type": "markdown",
   "id": "38161caf-6a8d-478b-9d53-94395ec435ea",
   "metadata": {
    "tags": []
   },
   "source": [
    "#### Train model"
   ]
  },
  {
   "cell_type": "code",
   "execution_count": 13,
   "id": "c4b21475-f9b1-46c3-8939-eb6369c227db",
   "metadata": {},
   "outputs": [],
   "source": [
    "NUM_THREADS=4\n",
    "NUM_EPOCHS=3\n",
    "K=5"
   ]
  },
  {
   "cell_type": "code",
   "execution_count": 14,
   "id": "73ee65a4-67fd-4b7e-9a2c-d4ab88f8737d",
   "metadata": {},
   "outputs": [],
   "source": [
    "from lightfm import LightFM\n",
    "\n",
    "\n",
    "model = LightFM(loss='warp', random_state=random_state, no_components=24)\n",
    "\n",
    "# output3, _ = track_model_metrics(model=model, \n",
    "#                                  train_interactions=train_interactions, \n",
    "#                                  test_interactions=eval_interactions, \n",
    "#                                  k=K,\n",
    "#                                  no_epochs=NUM_EPOCHS, \n",
    "#                                  no_threads=NUM_THREADS)"
   ]
  },
  {
   "cell_type": "code",
   "execution_count": 15,
   "id": "f3167404-2fed-49d1-971b-00c5b8e94b82",
   "metadata": {},
   "outputs": [
    {
     "name": "stderr",
     "output_type": "stream",
     "text": [
      "Epoch: 100%|██████████████████████████████████████████████████████████████████████████████████████████████████████████████████████████████████████████| 4/4 [00:00<00:00,  8.47it/s]\n"
     ]
    },
    {
     "data": {
      "text/plain": [
       "<lightfm.lightfm.LightFM at 0x7fd7b08eaf70>"
      ]
     },
     "execution_count": 15,
     "metadata": {},
     "output_type": "execute_result"
    }
   ],
   "source": [
    "model.fit(train_interactions, sample_weight=train_weights, verbose=True, epochs=4, item_features=users_features_matrix, user_features=questions_features_matrix)"
   ]
  },
  {
   "cell_type": "code",
   "execution_count": 16,
   "id": "e32ebdc6-28af-4cd2-b2bb-692304f701c3",
   "metadata": {},
   "outputs": [
    {
     "name": "stdout",
     "output_type": "stream",
     "text": [
      "Collaborative filtering test AUC: 0.76434964\n",
      "Collaborative filtering test warm_start AUC: 0.76366615\n",
      "Collaborative filtering test cold_start AUC: 0.7650332\n"
     ]
    }
   ],
   "source": [
    "from lightfm.evaluation import auc_score\n",
    "\n",
    "test_auc = auc_score(model, test_interactions, train_interactions=train_interactions, item_features=users_features_matrix, user_features=questions_features_matrix, num_threads=NUM_THREADS).mean()\n",
    "print('Collaborative filtering test AUC: %s' % test_auc)\n",
    "\n",
    "test_ws_auc = auc_score(model, test_ws_interactions, train_interactions=train_interactions, item_features=users_features_matrix, user_features=questions_features_matrix, num_threads=NUM_THREADS).mean()\n",
    "print('Collaborative filtering test warm_start AUC: %s' % test_ws_auc)\n",
    "\n",
    "test_cs_auc = auc_score(model, test_cs_interactions, train_interactions=train_interactions, item_features=users_features_matrix, user_features=questions_features_matrix, num_threads=NUM_THREADS).mean()\n",
    "print('Collaborative filtering test cold_start AUC: %s' % test_cs_auc)"
   ]
  },
  {
   "cell_type": "code",
   "execution_count": null,
   "id": "9d02ecfa-a034-4583-8c55-19488cba7b46",
   "metadata": {},
   "outputs": [],
   "source": []
  }
 ],
 "metadata": {
  "kernelspec": {
   "display_name": "Python 3 (ipykernel)",
   "language": "python",
   "name": "python3"
  },
  "language_info": {
   "codemirror_mode": {
    "name": "ipython",
    "version": 3
   },
   "file_extension": ".py",
   "mimetype": "text/x-python",
   "name": "python",
   "nbconvert_exporter": "python",
   "pygments_lexer": "ipython3",
   "version": "3.9.13"
  },
  "toc-autonumbering": true,
  "vscode": {
   "interpreter": {
    "hash": "b3a5420bc72a153eb19bc61fe9f4f579cf9003dbc754ddca24e0ad457f4baff1"
   }
  }
 },
 "nbformat": 4,
 "nbformat_minor": 5
}
