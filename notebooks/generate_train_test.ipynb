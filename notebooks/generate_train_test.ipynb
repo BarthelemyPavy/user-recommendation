{
 "cells": [
  {
   "cell_type": "markdown",
   "id": "0ad3ddbd-f7b6-4008-a5e1-5af05b0c90f3",
   "metadata": {},
   "source": [
    "# Train Test Val Split\n",
    "\n",
    "Different strategy of data splitting exists in order to evaluate a Recommendation Model.  \n",
    "Based on [this paper](https://arxiv.org/pdf/2007.13237.pdf) we'll define our strategy to generate train and test dataset"
   ]
  },
  {
   "cell_type": "code",
   "execution_count": 1,
   "id": "bec110d7-9100-46a7-b31b-51da8b6f18f5",
   "metadata": {},
   "outputs": [
    {
     "name": "stderr",
     "output_type": "stream",
     "text": [
      "/home/okteto/user_recommendation/.venv/lib/python3.9/site-packages/tqdm/auto.py:22: TqdmWarning: IProgress not found. Please update jupyter and ipywidgets. See https://ipywidgets.readthedocs.io/en/stable/user_install.html\n",
      "  from .autonotebook import tqdm as notebook_tqdm\n"
     ]
    }
   ],
   "source": [
    "import pandas as pd\n",
    "import numpy as np\n",
    "from utils import read_data"
   ]
  },
  {
   "cell_type": "code",
   "execution_count": 2,
   "id": "23755dcf-e9a8-4b99-84b6-c5b56b11cba6",
   "metadata": {},
   "outputs": [],
   "source": [
    "questions = read_data(\"questions.json\")\n",
    "answers = read_data(\"answers.json\")"
   ]
  },
  {
   "cell_type": "markdown",
   "id": "8fbb3408-7009-4107-9b65-d729bf963153",
   "metadata": {},
   "source": [
    "## Data Processing\n",
    "\n",
    "We add some information to answers dataset such as if an answer has been accepted or not, number of answers per user and number of answers per question.\n",
    "\n",
    "This will help us to filter our Dataset to better construct train and test datasets."
   ]
  },
  {
   "cell_type": "markdown",
   "id": "ba743278-1204-45ac-aa08-bcefa05f986c",
   "metadata": {},
   "source": [
    "### Add new information"
   ]
  },
  {
   "cell_type": "code",
   "execution_count": null,
   "id": "b63a364b-4d53-4144-bdda-7b915265e1ea",
   "metadata": {},
   "outputs": [],
   "source": []
  },
  {
   "cell_type": "code",
   "execution_count": 3,
   "id": "f541cd3b-5fc3-4acd-863f-644d7ff73630",
   "metadata": {},
   "outputs": [],
   "source": [
    "# Compute nb answers/user \n",
    "answers = answers.merge(answers[[\"user_id\" ,\"answer_id\"]].groupby(\"user_id\").count().reset_index().rename(columns={\"answer_id\": \"user_nb_answers\"}),\n",
    "             on=\"user_id\")\n",
    "# Compute nb answers/question\n",
    "answers = answers.merge(answers[[\"question_id\" ,\"answer_id\"]].groupby(\"question_id\").count().reset_index().rename(columns={\"answer_id\": \"question_nb_answers\"}),\n",
    "             on=\"question_id\")\n",
    "# Define if an answer has been accepted or not\n",
    "answers = answers.merge(questions[[\"accepted_answer_id\"]], how=\"left\", left_on=\"answer_id\", right_on=\"accepted_answer_id\")\n",
    "answers[\"is_accepted_answer\"] = np.where(answers.accepted_answer_id.isna(),\n",
    "                                          0,\n",
    "                                          1)"
   ]
  },
  {
   "cell_type": "markdown",
   "id": "a5d91356-4984-4d29-9c2e-dcc68bd9cbcc",
   "metadata": {},
   "source": [
    "Some stats on these new information"
   ]
  },
  {
   "cell_type": "code",
   "execution_count": 4,
   "id": "9403b549-fcf4-4a7c-be6a-242f83ee239b",
   "metadata": {},
   "outputs": [
    {
     "name": "stdout",
     "output_type": "stream",
     "text": [
      "Number of users having 2 or more answers: 12365\n",
      "Number of remaining questions interacting with users having 2 or more answers: 50730\n",
      "\n",
      "\n",
      "Number of questions having 2 or more answers: 4303\n",
      "Number of remaining users interacting with questions having 2 or more answers: 9709\n",
      "\n",
      "\n",
      "Number of users having answers accepted or score>=2: 21952\n",
      "Number of questions having answers accepted or score>=2: 42235\n"
     ]
    }
   ],
   "source": [
    "print(\"Number of users having 2 or more answers:\", answers[answers.user_nb_answers>=2].user_id.nunique())\n",
    "print(\"Number of remaining questions interacting with users having 2 or more answers:\", answers[answers.user_nb_answers>=2].question_id.nunique())\n",
    "print(\"\\n\")\n",
    "print(\"Number of questions having 2 or more answers:\", answers[answers.question_nb_answers>=3].question_id.nunique())\n",
    "print(\"Number of remaining users interacting with questions having 2 or more answers:\", answers[answers.question_nb_answers>=3].user_id.nunique())\n",
    "print(\"\\n\")\n",
    "print(\"Number of users having answers accepted or score>=2:\", answers[(answers.score>=2) | (answers.is_accepted_answer==1)].user_id.nunique())\n",
    "print(\"Number of questions having answers accepted or score>=2:\", answers[(answers.score>=2) | (answers.is_accepted_answer==1)].question_id.nunique())"
   ]
  },
  {
   "cell_type": "markdown",
   "id": "b9fb7859-83a0-4507-8f43-0c56cef9044a",
   "metadata": {},
   "source": [
    "### Filter positive interaction\n",
    "\n",
    "In this section we will define what is a positive interaction between a question and a user, i.e the user's answer is relevant.\n",
    "\n",
    "To do so we will use:\n",
    "- answer score\n",
    "- answer acceptation\n",
    "\n",
    "Regarding to our data exploration, we have seen that **more than 50% of answer have a score of 0**, this means that the majority of answers are not relevant or too recent to be upvoted, in both cases we can't take it as positive interaction.  \n",
    "Now the question is what is the threshold to apply to the score to define the positivity of an answer ? >=1, >=2, >=?..."
   ]
  },
  {
   "cell_type": "code",
   "execution_count": 5,
   "id": "cab507af-b3d6-4f80-be24-669c0a7a2843",
   "metadata": {},
   "outputs": [
    {
     "data": {
      "text/plain": [
       "count    95709.000000\n",
       "mean         0.770889\n",
       "std          1.639751\n",
       "min         -5.000000\n",
       "50%          0.000000\n",
       "60%          1.000000\n",
       "80%          1.000000\n",
       "85%          2.000000\n",
       "90%          2.000000\n",
       "92%          2.000000\n",
       "93%          2.000000\n",
       "94%          3.000000\n",
       "95%          3.000000\n",
       "96%          3.000000\n",
       "97%          3.000000\n",
       "98%          4.000000\n",
       "99%          5.000000\n",
       "100%       181.000000\n",
       "max        181.000000\n",
       "Name: score, dtype: float64"
      ]
     },
     "execution_count": 5,
     "metadata": {},
     "output_type": "execute_result"
    }
   ],
   "source": [
    "# Take a look to the distribution from 0.5 -> 1 percentiles\n",
    "answers.score.describe(percentiles=[0.5,0.6,0.8,0.85,0.9,0.92,0.93,0.94,0.95,0.96,0.97,0.98,0.99,1])"
   ]
  },
  {
   "cell_type": "code",
   "execution_count": 6,
   "id": "ddad7920-1d1e-4045-8dfe-e63247766565",
   "metadata": {},
   "outputs": [
    {
     "name": "stdout",
     "output_type": "stream",
     "text": [
      "% of remaining answers having been accepted or score>=1: 61 %\n",
      "% of remaining users having answers accepted or score>=1: 60 %\n",
      "% of remaining questions having answers accepted or score>=1: 70 %\n",
      "\n",
      "\n",
      "% of remaining answers having been accepted or score>=2: 46 %\n",
      "% of remaining users having answers accepted or score>=2: 48 %\n",
      "% of remaining questions having answers accepted or score>=2: 59 %\n",
      "\n",
      "\n",
      "% of remaining answers having been accepted or score>=3: 42 %\n",
      "% of remaining users having answers accepted or score>=3: 45 %\n",
      "% of remaining questions having answers accepted or score>=3: 56 %\n",
      "\n",
      "\n",
      "% of remaining answers having been accepted or score>=4: 41 %\n",
      "% of remaining users having answers accepted or score>=4: 44 %\n",
      "% of remaining questions having answers accepted or score>=4: 55 %\n",
      "\n",
      "\n",
      "% of remaining answers having been accepted or score>=5: 40 %\n",
      "% of remaining users having answers accepted or score>=5: 43 %\n",
      "% of remaining questions having answers accepted or score>=5: 54 %\n",
      "\n",
      "\n",
      "% of remaining answers having been accepted or score>=6: 40 %\n",
      "% of remaining users having answers accepted or score>=6: 43 %\n",
      "% of remaining questions having answers accepted or score>=6: 54 %\n",
      "\n",
      "\n",
      "% of remaining answers having been accepted or score>=7: 40 %\n",
      "% of remaining users having answers accepted or score>=7: 43 %\n",
      "% of remaining questions having answers accepted or score>=7: 54 %\n",
      "\n",
      "\n",
      "% of remaining answers having been accepted or score>=8: 40 %\n",
      "% of remaining users having answers accepted or score>=8: 43 %\n"
     ]
    },
    {
     "name": "stderr",
     "output_type": "stream",
     "text": [
      "2022-07-16 14:39:57,789 :: switch_backend :: DEBUG :: Loaded backend module://matplotlib_inline.backend_inline version unknown.\n",
      "2022-07-16 14:39:57,791 :: switch_backend :: DEBUG :: Loaded backend module://matplotlib_inline.backend_inline version unknown.\n",
      "2022-07-16 14:39:57,796 :: _findfont_cached :: DEBUG :: findfont: Matching sans\\-serif:style=normal:variant=normal:weight=normal:stretch=normal:size=10.0.\n",
      "2022-07-16 14:39:57,797 :: _findfont_cached :: DEBUG :: findfont: score(FontEntry(fname='/home/okteto/user_recommendation/.venv/lib/python3.9/site-packages/matplotlib/mpl-data/fonts/ttf/cmsy10.ttf', name='cmsy10', style='normal', variant='normal', weight=400, stretch='normal', size='scalable')) = 10.05\n",
      "2022-07-16 14:39:57,798 :: _findfont_cached :: DEBUG :: findfont: score(FontEntry(fname='/home/okteto/user_recommendation/.venv/lib/python3.9/site-packages/matplotlib/mpl-data/fonts/ttf/STIXNonUniBol.ttf', name='STIXNonUnicode', style='normal', variant='normal', weight=700, stretch='normal', size='scalable')) = 10.335\n",
      "2022-07-16 14:39:57,799 :: _findfont_cached :: DEBUG :: findfont: score(FontEntry(fname='/home/okteto/user_recommendation/.venv/lib/python3.9/site-packages/matplotlib/mpl-data/fonts/ttf/STIXSizFiveSymReg.ttf', name='STIXSizeFiveSym', style='normal', variant='normal', weight=400, stretch='normal', size='scalable')) = 10.05\n",
      "2022-07-16 14:39:57,800 :: _findfont_cached :: DEBUG :: findfont: score(FontEntry(fname='/home/okteto/user_recommendation/.venv/lib/python3.9/site-packages/matplotlib/mpl-data/fonts/ttf/DejaVuSerif.ttf', name='DejaVu Serif', style='normal', variant='normal', weight=400, stretch='normal', size='scalable')) = 10.05\n",
      "2022-07-16 14:39:57,801 :: _findfont_cached :: DEBUG :: findfont: score(FontEntry(fname='/home/okteto/user_recommendation/.venv/lib/python3.9/site-packages/matplotlib/mpl-data/fonts/ttf/cmr10.ttf', name='cmr10', style='normal', variant='normal', weight=400, stretch='normal', size='scalable')) = 10.05\n",
      "2022-07-16 14:39:57,801 :: _findfont_cached :: DEBUG :: findfont: score(FontEntry(fname='/home/okteto/user_recommendation/.venv/lib/python3.9/site-packages/matplotlib/mpl-data/fonts/ttf/DejaVuSerif-Italic.ttf', name='DejaVu Serif', style='italic', variant='normal', weight=400, stretch='normal', size='scalable')) = 11.05\n",
      "2022-07-16 14:39:57,802 :: _findfont_cached :: DEBUG :: findfont: score(FontEntry(fname='/home/okteto/user_recommendation/.venv/lib/python3.9/site-packages/matplotlib/mpl-data/fonts/ttf/STIXGeneral.ttf', name='STIXGeneral', style='normal', variant='normal', weight=400, stretch='normal', size='scalable')) = 10.05\n",
      "2022-07-16 14:39:57,803 :: _findfont_cached :: DEBUG :: findfont: score(FontEntry(fname='/home/okteto/user_recommendation/.venv/lib/python3.9/site-packages/matplotlib/mpl-data/fonts/ttf/STIXSizThreeSymReg.ttf', name='STIXSizeThreeSym', style='normal', variant='normal', weight=400, stretch='normal', size='scalable')) = 10.05\n",
      "2022-07-16 14:39:57,804 :: _findfont_cached :: DEBUG :: findfont: score(FontEntry(fname='/home/okteto/user_recommendation/.venv/lib/python3.9/site-packages/matplotlib/mpl-data/fonts/ttf/DejaVuSans-BoldOblique.ttf', name='DejaVu Sans', style='oblique', variant='normal', weight=700, stretch='normal', size='scalable')) = 1.335\n",
      "2022-07-16 14:39:57,805 :: _findfont_cached :: DEBUG :: findfont: score(FontEntry(fname='/home/okteto/user_recommendation/.venv/lib/python3.9/site-packages/matplotlib/mpl-data/fonts/ttf/STIXSizTwoSymReg.ttf', name='STIXSizeTwoSym', style='normal', variant='normal', weight=400, stretch='normal', size='scalable')) = 10.05\n",
      "2022-07-16 14:39:57,805 :: _findfont_cached :: DEBUG :: findfont: score(FontEntry(fname='/home/okteto/user_recommendation/.venv/lib/python3.9/site-packages/matplotlib/mpl-data/fonts/ttf/cmtt10.ttf', name='cmtt10', style='normal', variant='normal', weight=400, stretch='normal', size='scalable')) = 10.05\n",
      "2022-07-16 14:39:57,806 :: _findfont_cached :: DEBUG :: findfont: score(FontEntry(fname='/home/okteto/user_recommendation/.venv/lib/python3.9/site-packages/matplotlib/mpl-data/fonts/ttf/STIXNonUniIta.ttf', name='STIXNonUnicode', style='italic', variant='normal', weight=400, stretch='normal', size='scalable')) = 11.05\n",
      "2022-07-16 14:39:57,807 :: _findfont_cached :: DEBUG :: findfont: score(FontEntry(fname='/home/okteto/user_recommendation/.venv/lib/python3.9/site-packages/matplotlib/mpl-data/fonts/ttf/STIXGeneralBolIta.ttf', name='STIXGeneral', style='italic', variant='normal', weight=700, stretch='normal', size='scalable')) = 11.335\n",
      "2022-07-16 14:39:57,808 :: _findfont_cached :: DEBUG :: findfont: score(FontEntry(fname='/home/okteto/user_recommendation/.venv/lib/python3.9/site-packages/matplotlib/mpl-data/fonts/ttf/cmmi10.ttf', name='cmmi10', style='normal', variant='normal', weight=400, stretch='normal', size='scalable')) = 10.05\n",
      "2022-07-16 14:39:57,809 :: _findfont_cached :: DEBUG :: findfont: score(FontEntry(fname='/home/okteto/user_recommendation/.venv/lib/python3.9/site-packages/matplotlib/mpl-data/fonts/ttf/STIXSizFourSymReg.ttf', name='STIXSizeFourSym', style='normal', variant='normal', weight=400, stretch='normal', size='scalable')) = 10.05\n",
      "2022-07-16 14:39:57,810 :: _findfont_cached :: DEBUG :: findfont: score(FontEntry(fname='/home/okteto/user_recommendation/.venv/lib/python3.9/site-packages/matplotlib/mpl-data/fonts/ttf/STIXSizFourSymBol.ttf', name='STIXSizeFourSym', style='normal', variant='normal', weight=700, stretch='normal', size='scalable')) = 10.335\n",
      "2022-07-16 14:39:57,810 :: _findfont_cached :: DEBUG :: findfont: score(FontEntry(fname='/home/okteto/user_recommendation/.venv/lib/python3.9/site-packages/matplotlib/mpl-data/fonts/ttf/STIXSizOneSymReg.ttf', name='STIXSizeOneSym', style='normal', variant='normal', weight=400, stretch='normal', size='scalable')) = 10.05\n",
      "2022-07-16 14:39:57,811 :: _findfont_cached :: DEBUG :: findfont: score(FontEntry(fname='/home/okteto/user_recommendation/.venv/lib/python3.9/site-packages/matplotlib/mpl-data/fonts/ttf/STIXSizTwoSymBol.ttf', name='STIXSizeTwoSym', style='normal', variant='normal', weight=700, stretch='normal', size='scalable')) = 10.335\n",
      "2022-07-16 14:39:57,812 :: _findfont_cached :: DEBUG :: findfont: score(FontEntry(fname='/home/okteto/user_recommendation/.venv/lib/python3.9/site-packages/matplotlib/mpl-data/fonts/ttf/DejaVuSansMono-Oblique.ttf', name='DejaVu Sans Mono', style='oblique', variant='normal', weight=400, stretch='normal', size='scalable')) = 11.05\n",
      "2022-07-16 14:39:57,813 :: _findfont_cached :: DEBUG :: findfont: score(FontEntry(fname='/home/okteto/user_recommendation/.venv/lib/python3.9/site-packages/matplotlib/mpl-data/fonts/ttf/STIXSizThreeSymBol.ttf', name='STIXSizeThreeSym', style='normal', variant='normal', weight=700, stretch='normal', size='scalable')) = 10.335\n",
      "2022-07-16 14:39:57,814 :: _findfont_cached :: DEBUG :: findfont: score(FontEntry(fname='/home/okteto/user_recommendation/.venv/lib/python3.9/site-packages/matplotlib/mpl-data/fonts/ttf/DejaVuSans-Bold.ttf', name='DejaVu Sans', style='normal', variant='normal', weight=700, stretch='normal', size='scalable')) = 0.33499999999999996\n",
      "2022-07-16 14:39:57,815 :: _findfont_cached :: DEBUG :: findfont: score(FontEntry(fname='/home/okteto/user_recommendation/.venv/lib/python3.9/site-packages/matplotlib/mpl-data/fonts/ttf/DejaVuSerifDisplay.ttf', name='DejaVu Serif Display', style='normal', variant='normal', weight=400, stretch='normal', size='scalable')) = 10.05\n",
      "2022-07-16 14:39:57,815 :: _findfont_cached :: DEBUG :: findfont: score(FontEntry(fname='/home/okteto/user_recommendation/.venv/lib/python3.9/site-packages/matplotlib/mpl-data/fonts/ttf/DejaVuSansMono.ttf', name='DejaVu Sans Mono', style='normal', variant='normal', weight=400, stretch='normal', size='scalable')) = 10.05\n",
      "2022-07-16 14:39:57,816 :: _findfont_cached :: DEBUG :: findfont: score(FontEntry(fname='/home/okteto/user_recommendation/.venv/lib/python3.9/site-packages/matplotlib/mpl-data/fonts/ttf/DejaVuSerif-Bold.ttf', name='DejaVu Serif', style='normal', variant='normal', weight=700, stretch='normal', size='scalable')) = 10.335\n",
      "2022-07-16 14:39:57,817 :: _findfont_cached :: DEBUG :: findfont: score(FontEntry(fname='/home/okteto/user_recommendation/.venv/lib/python3.9/site-packages/matplotlib/mpl-data/fonts/ttf/STIXSizOneSymBol.ttf', name='STIXSizeOneSym', style='normal', variant='normal', weight=700, stretch='normal', size='scalable')) = 10.335\n",
      "2022-07-16 14:39:57,818 :: _findfont_cached :: DEBUG :: findfont: score(FontEntry(fname='/home/okteto/user_recommendation/.venv/lib/python3.9/site-packages/matplotlib/mpl-data/fonts/ttf/DejaVuSerif-BoldItalic.ttf', name='DejaVu Serif', style='italic', variant='normal', weight=700, stretch='normal', size='scalable')) = 11.335\n",
      "2022-07-16 14:39:57,819 :: _findfont_cached :: DEBUG :: findfont: score(FontEntry(fname='/home/okteto/user_recommendation/.venv/lib/python3.9/site-packages/matplotlib/mpl-data/fonts/ttf/cmss10.ttf', name='cmss10', style='normal', variant='normal', weight=400, stretch='normal', size='scalable')) = 10.05\n",
      "2022-07-16 14:39:57,819 :: _findfont_cached :: DEBUG :: findfont: score(FontEntry(fname='/home/okteto/user_recommendation/.venv/lib/python3.9/site-packages/matplotlib/mpl-data/fonts/ttf/STIXGeneralBol.ttf', name='STIXGeneral', style='normal', variant='normal', weight=700, stretch='normal', size='scalable')) = 10.335\n",
      "2022-07-16 14:39:57,820 :: _findfont_cached :: DEBUG :: findfont: score(FontEntry(fname='/home/okteto/user_recommendation/.venv/lib/python3.9/site-packages/matplotlib/mpl-data/fonts/ttf/DejaVuSansMono-BoldOblique.ttf', name='DejaVu Sans Mono', style='oblique', variant='normal', weight=700, stretch='normal', size='scalable')) = 11.335\n",
      "2022-07-16 14:39:57,821 :: _findfont_cached :: DEBUG :: findfont: score(FontEntry(fname='/home/okteto/user_recommendation/.venv/lib/python3.9/site-packages/matplotlib/mpl-data/fonts/ttf/STIXNonUniBolIta.ttf', name='STIXNonUnicode', style='italic', variant='normal', weight=700, stretch='normal', size='scalable')) = 11.335\n",
      "2022-07-16 14:39:57,822 :: _findfont_cached :: DEBUG :: findfont: score(FontEntry(fname='/home/okteto/user_recommendation/.venv/lib/python3.9/site-packages/matplotlib/mpl-data/fonts/ttf/STIXGeneralItalic.ttf', name='STIXGeneral', style='italic', variant='normal', weight=400, stretch='normal', size='scalable')) = 11.05\n",
      "2022-07-16 14:39:57,823 :: _findfont_cached :: DEBUG :: findfont: score(FontEntry(fname='/home/okteto/user_recommendation/.venv/lib/python3.9/site-packages/matplotlib/mpl-data/fonts/ttf/STIXNonUni.ttf', name='STIXNonUnicode', style='normal', variant='normal', weight=400, stretch='normal', size='scalable')) = 10.05\n",
      "2022-07-16 14:39:57,824 :: _findfont_cached :: DEBUG :: findfont: score(FontEntry(fname='/home/okteto/user_recommendation/.venv/lib/python3.9/site-packages/matplotlib/mpl-data/fonts/ttf/cmex10.ttf', name='cmex10', style='normal', variant='normal', weight=400, stretch='normal', size='scalable')) = 10.05\n",
      "2022-07-16 14:39:57,824 :: _findfont_cached :: DEBUG :: findfont: score(FontEntry(fname='/home/okteto/user_recommendation/.venv/lib/python3.9/site-packages/matplotlib/mpl-data/fonts/ttf/DejaVuSansDisplay.ttf', name='DejaVu Sans Display', style='normal', variant='normal', weight=400, stretch='normal', size='scalable')) = 10.05\n",
      "2022-07-16 14:39:57,825 :: _findfont_cached :: DEBUG :: findfont: score(FontEntry(fname='/home/okteto/user_recommendation/.venv/lib/python3.9/site-packages/matplotlib/mpl-data/fonts/ttf/DejaVuSansMono-Bold.ttf', name='DejaVu Sans Mono', style='normal', variant='normal', weight=700, stretch='normal', size='scalable')) = 10.335\n",
      "2022-07-16 14:39:57,826 :: _findfont_cached :: DEBUG :: findfont: score(FontEntry(fname='/home/okteto/user_recommendation/.venv/lib/python3.9/site-packages/matplotlib/mpl-data/fonts/ttf/DejaVuSans.ttf', name='DejaVu Sans', style='normal', variant='normal', weight=400, stretch='normal', size='scalable')) = 0.05\n",
      "2022-07-16 14:39:57,827 :: _findfont_cached :: DEBUG :: findfont: score(FontEntry(fname='/home/okteto/user_recommendation/.venv/lib/python3.9/site-packages/matplotlib/mpl-data/fonts/ttf/DejaVuSans-Oblique.ttf', name='DejaVu Sans', style='oblique', variant='normal', weight=400, stretch='normal', size='scalable')) = 1.05\n",
      "2022-07-16 14:39:57,828 :: _findfont_cached :: DEBUG :: findfont: score(FontEntry(fname='/home/okteto/user_recommendation/.venv/lib/python3.9/site-packages/matplotlib/mpl-data/fonts/ttf/cmb10.ttf', name='cmb10', style='normal', variant='normal', weight=400, stretch='normal', size='scalable')) = 10.05\n",
      "2022-07-16 14:39:57,829 :: _findfont_cached :: DEBUG :: findfont: score(FontEntry(fname='/usr/share/fonts/truetype/dejavu/DejaVuSerif-Bold.ttf', name='DejaVu Serif', style='normal', variant='normal', weight=700, stretch='normal', size='scalable')) = 10.335\n",
      "2022-07-16 14:39:57,829 :: _findfont_cached :: DEBUG :: findfont: score(FontEntry(fname='/usr/share/fonts/truetype/dejavu/DejaVuSans.ttf', name='DejaVu Sans', style='normal', variant='normal', weight=400, stretch='normal', size='scalable')) = 0.05\n",
      "2022-07-16 14:39:57,830 :: _findfont_cached :: DEBUG :: findfont: score(FontEntry(fname='/usr/share/fonts/truetype/dejavu/DejaVuSansMono.ttf', name='DejaVu Sans Mono', style='normal', variant='normal', weight=400, stretch='normal', size='scalable')) = 10.05\n"
     ]
    },
    {
     "name": "stdout",
     "output_type": "stream",
     "text": [
      "% of remaining questions having answers accepted or score>=8: 54 %\n",
      "\n",
      "\n",
      "% of remaining answers having been accepted or score>=9: 40 %\n",
      "% of remaining users having answers accepted or score>=9: 43 %\n",
      "% of remaining questions having answers accepted or score>=9: 54 %\n",
      "\n",
      "\n",
      "% of remaining answers having been accepted or score>=10: 40 %\n",
      "% of remaining users having answers accepted or score>=10: 43 %\n",
      "% of remaining questions having answers accepted or score>=10: 54 %\n",
      "\n",
      "\n"
     ]
    },
    {
     "name": "stderr",
     "output_type": "stream",
     "text": [
      "2022-07-16 14:39:57,831 :: _findfont_cached :: DEBUG :: findfont: score(FontEntry(fname='/usr/share/fonts/truetype/dejavu/DejaVuSerif.ttf', name='DejaVu Serif', style='normal', variant='normal', weight=400, stretch='normal', size='scalable')) = 10.05\n",
      "2022-07-16 14:39:57,832 :: _findfont_cached :: DEBUG :: findfont: score(FontEntry(fname='/usr/share/fonts/truetype/dejavu/DejaVuSansMono-Bold.ttf', name='DejaVu Sans Mono', style='normal', variant='normal', weight=700, stretch='normal', size='scalable')) = 10.335\n",
      "2022-07-16 14:39:57,833 :: _findfont_cached :: DEBUG :: findfont: score(FontEntry(fname='/usr/share/fonts/truetype/dejavu/DejaVuSans-Bold.ttf', name='DejaVu Sans', style='normal', variant='normal', weight=700, stretch='normal', size='scalable')) = 0.33499999999999996\n",
      "2022-07-16 14:39:57,833 :: _findfont_cached :: DEBUG :: findfont: Matching sans\\-serif:style=normal:variant=normal:weight=normal:stretch=normal:size=10.0 to DejaVu Sans ('/home/okteto/user_recommendation/.venv/lib/python3.9/site-packages/matplotlib/mpl-data/fonts/ttf/DejaVuSans.ttf') with score of 0.050000.\n"
     ]
    },
    {
     "data": {
      "text/plain": [
       "<AxesSubplot:xlabel='score', ylabel='percentage'>"
      ]
     },
     "execution_count": 6,
     "metadata": {},
     "output_type": "execute_result"
    },
    {
     "name": "stderr",
     "output_type": "stream",
     "text": [
      "2022-07-16 14:39:57,938 :: _findfont_cached :: DEBUG :: findfont: Matching sans\\-serif:style=normal:variant=normal:weight=normal:stretch=normal:size=10.0.\n",
      "2022-07-16 14:39:57,939 :: _findfont_cached :: DEBUG :: findfont: score(FontEntry(fname='/home/okteto/user_recommendation/.venv/lib/python3.9/site-packages/matplotlib/mpl-data/fonts/ttf/cmsy10.ttf', name='cmsy10', style='normal', variant='normal', weight=400, stretch='normal', size='scalable')) = 10.05\n",
      "2022-07-16 14:39:57,940 :: _findfont_cached :: DEBUG :: findfont: score(FontEntry(fname='/home/okteto/user_recommendation/.venv/lib/python3.9/site-packages/matplotlib/mpl-data/fonts/ttf/STIXNonUniBol.ttf', name='STIXNonUnicode', style='normal', variant='normal', weight=700, stretch='normal', size='scalable')) = 10.335\n",
      "2022-07-16 14:39:57,942 :: _findfont_cached :: DEBUG :: findfont: score(FontEntry(fname='/home/okteto/user_recommendation/.venv/lib/python3.9/site-packages/matplotlib/mpl-data/fonts/ttf/STIXSizFiveSymReg.ttf', name='STIXSizeFiveSym', style='normal', variant='normal', weight=400, stretch='normal', size='scalable')) = 10.05\n",
      "2022-07-16 14:39:57,942 :: _findfont_cached :: DEBUG :: findfont: score(FontEntry(fname='/home/okteto/user_recommendation/.venv/lib/python3.9/site-packages/matplotlib/mpl-data/fonts/ttf/DejaVuSerif.ttf', name='DejaVu Serif', style='normal', variant='normal', weight=400, stretch='normal', size='scalable')) = 10.05\n",
      "2022-07-16 14:39:57,944 :: _findfont_cached :: DEBUG :: findfont: score(FontEntry(fname='/home/okteto/user_recommendation/.venv/lib/python3.9/site-packages/matplotlib/mpl-data/fonts/ttf/cmr10.ttf', name='cmr10', style='normal', variant='normal', weight=400, stretch='normal', size='scalable')) = 10.05\n",
      "2022-07-16 14:39:57,945 :: _findfont_cached :: DEBUG :: findfont: score(FontEntry(fname='/home/okteto/user_recommendation/.venv/lib/python3.9/site-packages/matplotlib/mpl-data/fonts/ttf/DejaVuSerif-Italic.ttf', name='DejaVu Serif', style='italic', variant='normal', weight=400, stretch='normal', size='scalable')) = 11.05\n",
      "2022-07-16 14:39:57,946 :: _findfont_cached :: DEBUG :: findfont: score(FontEntry(fname='/home/okteto/user_recommendation/.venv/lib/python3.9/site-packages/matplotlib/mpl-data/fonts/ttf/STIXGeneral.ttf', name='STIXGeneral', style='normal', variant='normal', weight=400, stretch='normal', size='scalable')) = 10.05\n",
      "2022-07-16 14:39:57,948 :: _findfont_cached :: DEBUG :: findfont: score(FontEntry(fname='/home/okteto/user_recommendation/.venv/lib/python3.9/site-packages/matplotlib/mpl-data/fonts/ttf/STIXSizThreeSymReg.ttf', name='STIXSizeThreeSym', style='normal', variant='normal', weight=400, stretch='normal', size='scalable')) = 10.05\n",
      "2022-07-16 14:39:57,949 :: _findfont_cached :: DEBUG :: findfont: score(FontEntry(fname='/home/okteto/user_recommendation/.venv/lib/python3.9/site-packages/matplotlib/mpl-data/fonts/ttf/DejaVuSans-BoldOblique.ttf', name='DejaVu Sans', style='oblique', variant='normal', weight=700, stretch='normal', size='scalable')) = 1.335\n",
      "2022-07-16 14:39:57,951 :: _findfont_cached :: DEBUG :: findfont: score(FontEntry(fname='/home/okteto/user_recommendation/.venv/lib/python3.9/site-packages/matplotlib/mpl-data/fonts/ttf/STIXSizTwoSymReg.ttf', name='STIXSizeTwoSym', style='normal', variant='normal', weight=400, stretch='normal', size='scalable')) = 10.05\n",
      "2022-07-16 14:39:57,954 :: _findfont_cached :: DEBUG :: findfont: score(FontEntry(fname='/home/okteto/user_recommendation/.venv/lib/python3.9/site-packages/matplotlib/mpl-data/fonts/ttf/cmtt10.ttf', name='cmtt10', style='normal', variant='normal', weight=400, stretch='normal', size='scalable')) = 10.05\n",
      "2022-07-16 14:39:57,955 :: _findfont_cached :: DEBUG :: findfont: score(FontEntry(fname='/home/okteto/user_recommendation/.venv/lib/python3.9/site-packages/matplotlib/mpl-data/fonts/ttf/STIXNonUniIta.ttf', name='STIXNonUnicode', style='italic', variant='normal', weight=400, stretch='normal', size='scalable')) = 11.05\n",
      "2022-07-16 14:39:57,956 :: _findfont_cached :: DEBUG :: findfont: score(FontEntry(fname='/home/okteto/user_recommendation/.venv/lib/python3.9/site-packages/matplotlib/mpl-data/fonts/ttf/STIXGeneralBolIta.ttf', name='STIXGeneral', style='italic', variant='normal', weight=700, stretch='normal', size='scalable')) = 11.335\n",
      "2022-07-16 14:39:57,958 :: _findfont_cached :: DEBUG :: findfont: score(FontEntry(fname='/home/okteto/user_recommendation/.venv/lib/python3.9/site-packages/matplotlib/mpl-data/fonts/ttf/cmmi10.ttf', name='cmmi10', style='normal', variant='normal', weight=400, stretch='normal', size='scalable')) = 10.05\n",
      "2022-07-16 14:39:57,959 :: _findfont_cached :: DEBUG :: findfont: score(FontEntry(fname='/home/okteto/user_recommendation/.venv/lib/python3.9/site-packages/matplotlib/mpl-data/fonts/ttf/STIXSizFourSymReg.ttf', name='STIXSizeFourSym', style='normal', variant='normal', weight=400, stretch='normal', size='scalable')) = 10.05\n",
      "2022-07-16 14:39:57,960 :: _findfont_cached :: DEBUG :: findfont: score(FontEntry(fname='/home/okteto/user_recommendation/.venv/lib/python3.9/site-packages/matplotlib/mpl-data/fonts/ttf/STIXSizFourSymBol.ttf', name='STIXSizeFourSym', style='normal', variant='normal', weight=700, stretch='normal', size='scalable')) = 10.335\n",
      "2022-07-16 14:39:57,960 :: _findfont_cached :: DEBUG :: findfont: score(FontEntry(fname='/home/okteto/user_recommendation/.venv/lib/python3.9/site-packages/matplotlib/mpl-data/fonts/ttf/STIXSizOneSymReg.ttf', name='STIXSizeOneSym', style='normal', variant='normal', weight=400, stretch='normal', size='scalable')) = 10.05\n",
      "2022-07-16 14:39:57,961 :: _findfont_cached :: DEBUG :: findfont: score(FontEntry(fname='/home/okteto/user_recommendation/.venv/lib/python3.9/site-packages/matplotlib/mpl-data/fonts/ttf/STIXSizTwoSymBol.ttf', name='STIXSizeTwoSym', style='normal', variant='normal', weight=700, stretch='normal', size='scalable')) = 10.335\n",
      "2022-07-16 14:39:57,963 :: _findfont_cached :: DEBUG :: findfont: score(FontEntry(fname='/home/okteto/user_recommendation/.venv/lib/python3.9/site-packages/matplotlib/mpl-data/fonts/ttf/DejaVuSansMono-Oblique.ttf', name='DejaVu Sans Mono', style='oblique', variant='normal', weight=400, stretch='normal', size='scalable')) = 11.05\n",
      "2022-07-16 14:39:57,964 :: _findfont_cached :: DEBUG :: findfont: score(FontEntry(fname='/home/okteto/user_recommendation/.venv/lib/python3.9/site-packages/matplotlib/mpl-data/fonts/ttf/STIXSizThreeSymBol.ttf', name='STIXSizeThreeSym', style='normal', variant='normal', weight=700, stretch='normal', size='scalable')) = 10.335\n",
      "2022-07-16 14:39:57,965 :: _findfont_cached :: DEBUG :: findfont: score(FontEntry(fname='/home/okteto/user_recommendation/.venv/lib/python3.9/site-packages/matplotlib/mpl-data/fonts/ttf/DejaVuSans-Bold.ttf', name='DejaVu Sans', style='normal', variant='normal', weight=700, stretch='normal', size='scalable')) = 0.33499999999999996\n",
      "2022-07-16 14:39:57,966 :: _findfont_cached :: DEBUG :: findfont: score(FontEntry(fname='/home/okteto/user_recommendation/.venv/lib/python3.9/site-packages/matplotlib/mpl-data/fonts/ttf/DejaVuSerifDisplay.ttf', name='DejaVu Serif Display', style='normal', variant='normal', weight=400, stretch='normal', size='scalable')) = 10.05\n",
      "2022-07-16 14:39:57,967 :: _findfont_cached :: DEBUG :: findfont: score(FontEntry(fname='/home/okteto/user_recommendation/.venv/lib/python3.9/site-packages/matplotlib/mpl-data/fonts/ttf/DejaVuSansMono.ttf', name='DejaVu Sans Mono', style='normal', variant='normal', weight=400, stretch='normal', size='scalable')) = 10.05\n",
      "2022-07-16 14:39:57,968 :: _findfont_cached :: DEBUG :: findfont: score(FontEntry(fname='/home/okteto/user_recommendation/.venv/lib/python3.9/site-packages/matplotlib/mpl-data/fonts/ttf/DejaVuSerif-Bold.ttf', name='DejaVu Serif', style='normal', variant='normal', weight=700, stretch='normal', size='scalable')) = 10.335\n",
      "2022-07-16 14:39:57,969 :: _findfont_cached :: DEBUG :: findfont: score(FontEntry(fname='/home/okteto/user_recommendation/.venv/lib/python3.9/site-packages/matplotlib/mpl-data/fonts/ttf/STIXSizOneSymBol.ttf', name='STIXSizeOneSym', style='normal', variant='normal', weight=700, stretch='normal', size='scalable')) = 10.335\n",
      "2022-07-16 14:39:57,970 :: _findfont_cached :: DEBUG :: findfont: score(FontEntry(fname='/home/okteto/user_recommendation/.venv/lib/python3.9/site-packages/matplotlib/mpl-data/fonts/ttf/DejaVuSerif-BoldItalic.ttf', name='DejaVu Serif', style='italic', variant='normal', weight=700, stretch='normal', size='scalable')) = 11.335\n",
      "2022-07-16 14:39:57,971 :: _findfont_cached :: DEBUG :: findfont: score(FontEntry(fname='/home/okteto/user_recommendation/.venv/lib/python3.9/site-packages/matplotlib/mpl-data/fonts/ttf/cmss10.ttf', name='cmss10', style='normal', variant='normal', weight=400, stretch='normal', size='scalable')) = 10.05\n",
      "2022-07-16 14:39:57,972 :: _findfont_cached :: DEBUG :: findfont: score(FontEntry(fname='/home/okteto/user_recommendation/.venv/lib/python3.9/site-packages/matplotlib/mpl-data/fonts/ttf/STIXGeneralBol.ttf', name='STIXGeneral', style='normal', variant='normal', weight=700, stretch='normal', size='scalable')) = 10.335\n",
      "2022-07-16 14:39:57,973 :: _findfont_cached :: DEBUG :: findfont: score(FontEntry(fname='/home/okteto/user_recommendation/.venv/lib/python3.9/site-packages/matplotlib/mpl-data/fonts/ttf/DejaVuSansMono-BoldOblique.ttf', name='DejaVu Sans Mono', style='oblique', variant='normal', weight=700, stretch='normal', size='scalable')) = 11.335\n",
      "2022-07-16 14:39:57,973 :: _findfont_cached :: DEBUG :: findfont: score(FontEntry(fname='/home/okteto/user_recommendation/.venv/lib/python3.9/site-packages/matplotlib/mpl-data/fonts/ttf/STIXNonUniBolIta.ttf', name='STIXNonUnicode', style='italic', variant='normal', weight=700, stretch='normal', size='scalable')) = 11.335\n",
      "2022-07-16 14:39:57,974 :: _findfont_cached :: DEBUG :: findfont: score(FontEntry(fname='/home/okteto/user_recommendation/.venv/lib/python3.9/site-packages/matplotlib/mpl-data/fonts/ttf/STIXGeneralItalic.ttf', name='STIXGeneral', style='italic', variant='normal', weight=400, stretch='normal', size='scalable')) = 11.05\n",
      "2022-07-16 14:39:57,975 :: _findfont_cached :: DEBUG :: findfont: score(FontEntry(fname='/home/okteto/user_recommendation/.venv/lib/python3.9/site-packages/matplotlib/mpl-data/fonts/ttf/STIXNonUni.ttf', name='STIXNonUnicode', style='normal', variant='normal', weight=400, stretch='normal', size='scalable')) = 10.05\n",
      "2022-07-16 14:39:57,975 :: _findfont_cached :: DEBUG :: findfont: score(FontEntry(fname='/home/okteto/user_recommendation/.venv/lib/python3.9/site-packages/matplotlib/mpl-data/fonts/ttf/cmex10.ttf', name='cmex10', style='normal', variant='normal', weight=400, stretch='normal', size='scalable')) = 10.05\n",
      "2022-07-16 14:39:57,976 :: _findfont_cached :: DEBUG :: findfont: score(FontEntry(fname='/home/okteto/user_recommendation/.venv/lib/python3.9/site-packages/matplotlib/mpl-data/fonts/ttf/DejaVuSansDisplay.ttf', name='DejaVu Sans Display', style='normal', variant='normal', weight=400, stretch='normal', size='scalable')) = 10.05\n",
      "2022-07-16 14:39:57,977 :: _findfont_cached :: DEBUG :: findfont: score(FontEntry(fname='/home/okteto/user_recommendation/.venv/lib/python3.9/site-packages/matplotlib/mpl-data/fonts/ttf/DejaVuSansMono-Bold.ttf', name='DejaVu Sans Mono', style='normal', variant='normal', weight=700, stretch='normal', size='scalable')) = 10.335\n",
      "2022-07-16 14:39:57,977 :: _findfont_cached :: DEBUG :: findfont: score(FontEntry(fname='/home/okteto/user_recommendation/.venv/lib/python3.9/site-packages/matplotlib/mpl-data/fonts/ttf/DejaVuSans.ttf', name='DejaVu Sans', style='normal', variant='normal', weight=400, stretch='normal', size='scalable')) = 0.05\n",
      "2022-07-16 14:39:57,978 :: _findfont_cached :: DEBUG :: findfont: score(FontEntry(fname='/home/okteto/user_recommendation/.venv/lib/python3.9/site-packages/matplotlib/mpl-data/fonts/ttf/DejaVuSans-Oblique.ttf', name='DejaVu Sans', style='oblique', variant='normal', weight=400, stretch='normal', size='scalable')) = 1.05\n",
      "2022-07-16 14:39:57,978 :: _findfont_cached :: DEBUG :: findfont: score(FontEntry(fname='/home/okteto/user_recommendation/.venv/lib/python3.9/site-packages/matplotlib/mpl-data/fonts/ttf/cmb10.ttf', name='cmb10', style='normal', variant='normal', weight=400, stretch='normal', size='scalable')) = 10.05\n",
      "2022-07-16 14:39:57,979 :: _findfont_cached :: DEBUG :: findfont: score(FontEntry(fname='/usr/share/fonts/truetype/dejavu/DejaVuSerif-Bold.ttf', name='DejaVu Serif', style='normal', variant='normal', weight=700, stretch='normal', size='scalable')) = 10.335\n",
      "2022-07-16 14:39:57,980 :: _findfont_cached :: DEBUG :: findfont: score(FontEntry(fname='/usr/share/fonts/truetype/dejavu/DejaVuSans.ttf', name='DejaVu Sans', style='normal', variant='normal', weight=400, stretch='normal', size='scalable')) = 0.05\n",
      "2022-07-16 14:39:57,980 :: _findfont_cached :: DEBUG :: findfont: score(FontEntry(fname='/usr/share/fonts/truetype/dejavu/DejaVuSansMono.ttf', name='DejaVu Sans Mono', style='normal', variant='normal', weight=400, stretch='normal', size='scalable')) = 10.05\n",
      "2022-07-16 14:39:57,981 :: _findfont_cached :: DEBUG :: findfont: score(FontEntry(fname='/usr/share/fonts/truetype/dejavu/DejaVuSerif.ttf', name='DejaVu Serif', style='normal', variant='normal', weight=400, stretch='normal', size='scalable')) = 10.05\n",
      "2022-07-16 14:39:57,981 :: _findfont_cached :: DEBUG :: findfont: score(FontEntry(fname='/usr/share/fonts/truetype/dejavu/DejaVuSansMono-Bold.ttf', name='DejaVu Sans Mono', style='normal', variant='normal', weight=700, stretch='normal', size='scalable')) = 10.335\n",
      "2022-07-16 14:39:57,982 :: _findfont_cached :: DEBUG :: findfont: score(FontEntry(fname='/usr/share/fonts/truetype/dejavu/DejaVuSans-Bold.ttf', name='DejaVu Sans', style='normal', variant='normal', weight=700, stretch='normal', size='scalable')) = 0.33499999999999996\n",
      "2022-07-16 14:39:57,983 :: _findfont_cached :: DEBUG :: findfont: Matching sans\\-serif:style=normal:variant=normal:weight=normal:stretch=normal:size=10.0 to DejaVu Sans ('/home/okteto/user_recommendation/.venv/lib/python3.9/site-packages/matplotlib/mpl-data/fonts/ttf/DejaVuSans.ttf') with score of 0.050000.\n"
     ]
    },
    {
     "data": {
      "image/png": "[encoded data removed]",
      "text/plain": [
       "<Figure size 432x288 with 1 Axes>"
      ]
     },
     "metadata": {
      "needs_background": "light"
     },
     "output_type": "display_data"
    }
   ],
   "source": [
    "import seaborn as sns\n",
    "\n",
    "values_df = pd.DataFrame(columns=[\"score\", \"percentage\", \"category\"])\n",
    "for i in range(1, 11):\n",
    "    answers_per = int((answers[(answers.score>=i) | (answers.is_accepted_answer==1)].answer_id.count()/answers.answer_id.count())*100)\n",
    "    print(f\"% of remaining answers having been accepted or score>={i}:\", answers_per, \"%\")\n",
    "    users_per = int((answers[(answers.score>=i) | (answers.is_accepted_answer==1)].user_id.nunique()/answers.user_id.nunique())*100)\n",
    "    print(f\"% of remaining users having answers accepted or score>={i}:\", users_per, \"%\")\n",
    "    questions_per = int((answers[(answers.score>=i) | (answers.is_accepted_answer==1)].question_id.nunique()/answers.question_id.nunique())*100)\n",
    "    print(f\"% of remaining questions having answers accepted or score>={i}:\", questions_per, \"%\")\n",
    "    print(\"\\n\")\n",
    "    values_df = values_df.append([{\"score\": i, \"percentage\": answers_per, \"category\": \"remaining_answers_%\"},\n",
    "                     {\"score\": i, \"percentage\": users_per, \"category\": \"remaining_users_%\"},\n",
    "                     {\"score\": i, \"percentage\": questions_per, \"category\": \"remaining_questions_%\"}], ignore_index=True)\n",
    "sns.lineplot(data=values_df, x=\"score\", y=\"percentage\", hue=\"category\")"
   ]
  },
  {
   "cell_type": "markdown",
   "id": "cf634e89-62f2-4bb1-8ad5-01196eaaa3a8",
   "metadata": {},
   "source": [
    "The most discriminant threshold seems to be 2, with higher score we have no significant differences as the probability of accepted answer is higher.  \n",
    "The choice of this threshold is a business choice related to the use case we want to implement. For now let's take only answer with **at least 1 upvote**."
   ]
  },
  {
   "cell_type": "code",
   "execution_count": 7,
   "id": "b05d9755-ce9d-4f60-a5c8-3eb3caf6375d",
   "metadata": {},
   "outputs": [],
   "source": [
    "from utils import get_positive_interactions"
   ]
  },
  {
   "cell_type": "code",
   "execution_count": 8,
   "id": "1241b011-1aeb-4c9a-9a9b-643131502128",
   "metadata": {},
   "outputs": [],
   "source": [
    "positive_answers, negative_answers = get_positive_interactions(answers, 1, \"score\", True)"
   ]
  },
  {
   "cell_type": "markdown",
   "id": "52302810-4611-4f1b-9479-ca93f3fdb97f",
   "metadata": {},
   "source": [
    "## Train Test Val\n",
    "\n",
    "Let's define the pct of the test size and the composition of this test dataset in term of cold start and warm start rows"
   ]
  },
  {
   "cell_type": "code",
   "execution_count": 9,
   "id": "8ba3c763-896a-4eda-a49f-375abfbc343e",
   "metadata": {},
   "outputs": [],
   "source": [
    "test_eval_size = 0.15\n",
    "eval_size = 0.5\n",
    "cold_start_size = 0.5\n",
    "warm_start_size = 1-cold_start_size\n",
    "random_state = 42"
   ]
  },
  {
   "cell_type": "markdown",
   "id": "00966b3f-9b30-4c3f-b349-f03cb887f917",
   "metadata": {},
   "source": [
    "### Test"
   ]
  },
  {
   "cell_type": "markdown",
   "id": "d6ae89c6-7146-48ba-bac2-70b365005367",
   "metadata": {},
   "source": [
    "#### Cold start\n",
    "\n",
    "Define the strategy of test train split for cold start, i.e the question hasn't been seen in the training dataset.\n",
    "\n",
    "--> User Split Strategy from https://arxiv.org/pdf/2007.13237.pdf"
   ]
  },
  {
   "cell_type": "code",
   "execution_count": 10,
   "id": "fac15c7f-007e-49b9-9016-a03087b95efa",
   "metadata": {},
   "outputs": [],
   "source": [
    "from utils import metric_to_classes\n",
    "from sklearn.model_selection import train_test_split"
   ]
  },
  {
   "cell_type": "markdown",
   "id": "a18f6ef2-d89d-4849-8d06-44545178f1f0",
   "metadata": {},
   "source": [
    "As cold start concern the question we will take unique question_id"
   ]
  },
  {
   "cell_type": "code",
   "execution_count": 11,
   "id": "16c2c920-4825-4c3d-93f2-8848b065b47c",
   "metadata": {},
   "outputs": [],
   "source": [
    "questions_from_positive = positive_answers[[\"question_id\", \"question_nb_answers\"]].drop_duplicates(subset=\"question_id\").reset_index(drop=True)"
   ]
  },
  {
   "cell_type": "markdown",
   "id": "06329471-7dbb-4d8c-b938-adc468890671",
   "metadata": {},
   "source": [
    "I choose to use the number of answer related to a question to stratify my split (other choices are possible such as the average of answers score).  \n",
    "We will classify the feature in 3 labels: High, Medium, low based on percentiles and use these labels in our split."
   ]
  },
  {
   "cell_type": "code",
   "execution_count": 12,
   "id": "0de1eb82-836b-4a20-b805-2f7c3aa117f8",
   "metadata": {},
   "outputs": [
    {
     "data": {
      "text/plain": [
       "count    50154.000000\n",
       "mean         1.406986\n",
       "std          0.721898\n",
       "min          1.000000\n",
       "50%          1.000000\n",
       "60%          1.000000\n",
       "70%          2.000000\n",
       "80%          2.000000\n",
       "85%          2.000000\n",
       "90%          2.000000\n",
       "92%          2.000000\n",
       "93%          3.000000\n",
       "94%          3.000000\n",
       "95%          3.000000\n",
       "96%          3.000000\n",
       "97%          3.000000\n",
       "98%          3.000000\n",
       "99%          4.000000\n",
       "100%        16.000000\n",
       "max         16.000000\n",
       "Name: question_nb_answers, dtype: float64"
      ]
     },
     "execution_count": 12,
     "metadata": {},
     "output_type": "execute_result"
    }
   ],
   "source": [
    "questions_from_positive.question_nb_answers.describe(percentiles=[0.5,0.6,0.7,0.8,0.85,0.9,0.92,0.93,0.94,0.95,0.96,0.97,0.98,0.99,1])"
   ]
  },
  {
   "cell_type": "code",
   "execution_count": 13,
   "id": "de71338c-a501-41aa-9e52-85fe22b01056",
   "metadata": {},
   "outputs": [
    {
     "name": "stdout",
     "output_type": "stream",
     "text": [
      "test cs shape (2662, 10) \n",
      "test cs nb unique questions 1881\n",
      "test cs shape (2665, 10) \n",
      "test cs nb unique questions 1881\n"
     ]
    }
   ],
   "source": [
    "# Transform question_nb_answers to classes to stratify split\n",
    "questions_from_positive[\"question_label\"] = metric_to_classes(questions_from_positive.question_nb_answers, 0.99, 0.7)\n",
    "\n",
    "# Split questions in test_eval dataset\n",
    "_, test_eval_cold_start_questions = train_test_split(questions_from_positive[[\"question_id\", \"question_label\"]], test_size=test_eval_size*cold_start_size, random_state=random_state, stratify=questions_from_positive[\"question_label\"])\n",
    "\n",
    "# Split test_eval dataset into test and eval\n",
    "test_cold_start_questions, eval_cold_start_questions = train_test_split(test_eval_cold_start_questions[[\"question_id\"]], test_size=eval_size, random_state=random_state, stratify=test_eval_cold_start_questions[\"question_label\"])\n",
    "\n",
    "# Merge test questions with answers\n",
    "test_cold_start = test_cold_start_questions.merge(answers, on=\"question_id\")\n",
    "print(\"test cs shape\", test_cold_start.shape, \"\\ntest cs nb unique questions\",test_cold_start.question_id.nunique())\n",
    "\n",
    "# Merge eval questions with answers\n",
    "eval_cold_start = eval_cold_start_questions.merge(answers, on=\"question_id\")\n",
    "print(\"test cs shape\", eval_cold_start.shape, \"\\ntest cs nb unique questions\",eval_cold_start.question_id.nunique())"
   ]
  },
  {
   "cell_type": "markdown",
   "id": "287b4557-d2a7-4fc4-8cf4-6bf1f70b59ff",
   "metadata": {},
   "source": [
    "#### Warm start\n",
    "\n",
    "Define the strategy of test train split for warm start, i.e the question has been seen in the training dataset.\n",
    "\n",
    "--> Leave One Last Item Strategy from https://arxiv.org/pdf/2007.13237.pdf"
   ]
  },
  {
   "cell_type": "code",
   "execution_count": 14,
   "id": "24c379fa-0155-480a-b50b-84efb584cdf8",
   "metadata": {},
   "outputs": [],
   "source": [
    "import math"
   ]
  },
  {
   "cell_type": "code",
   "execution_count": 15,
   "id": "db3cfc16-3838-4b37-90dc-025dd5488d8c",
   "metadata": {},
   "outputs": [],
   "source": [
    "# Compute number of questions to take for warm start\n",
    "warm_start_test_nb = int(warm_start_size*(test_cold_start_questions.size + eval_cold_start_questions.size)/cold_start_size)\n",
    "\n",
    "# Remove cold start questions\n",
    "questions_from_positive_without_cold_start = questions_from_positive[~questions_from_positive.question_id.isin(test_eval_cold_start_questions.question_id.tolist())]\n",
    "\n",
    "# Split warm start corpus into test_eval dataset \n",
    "questions_from_positive_without_cold_start = questions_from_positive_without_cold_start[questions_from_positive_without_cold_start.question_nb_answers>=2]\n",
    "_, test_eval_warm_start_questions = train_test_split(questions_from_positive_without_cold_start[[\"question_id\", \"question_label\"]], test_size=warm_start_test_nb, random_state=random_state, stratify=questions_from_positive_without_cold_start[\"question_label\"])\n",
    "\n",
    "# Get test and eval questions\n",
    "test_warm_start_questions, eval_warm_start_questions = train_test_split(test_eval_warm_start_questions[[\"question_id\"]], test_size=eval_size, random_state=random_state, stratify=test_eval_warm_start_questions[\"question_label\"])\n",
    "\n",
    "# Get answers from warm start questions\n",
    "test_warm_start_answers = answers[answers.question_id.isin(test_warm_start_questions.question_id.tolist())]\n",
    "eval_warm_start_answers = answers[answers.question_id.isin(eval_warm_start_questions.question_id.tolist())]\n",
    "\n",
    "# Group by question_id\n",
    "test_warm_start_answers_group = test_warm_start_answers.groupby(\"question_id\")\n",
    "eval_warm_start_answers_group = eval_warm_start_answers.groupby(\"question_id\")\n",
    "\n",
    "# For each questions keep only x rate of last answers\n",
    "rate_last_answers = 0.3\n",
    "test_warm_start = test_warm_start_answers_group.apply(lambda x: x.sort_values(by=\"date\", ascending=False).head(math.ceil(x.size*rate_last_answers))).reset_index(drop=True)\n",
    "eval_warm_start = eval_warm_start_answers_group.apply(lambda x: x.sort_values(by=\"date\", ascending=False).head(math.ceil(x.size*rate_last_answers))).reset_index(drop=True)"
   ]
  },
  {
   "cell_type": "code",
   "execution_count": 16,
   "id": "f408a9a0-2ee3-4e55-b44a-0e0e58ed5f32",
   "metadata": {},
   "outputs": [
    {
     "data": {
      "text/plain": [
       "(4352, 10)"
      ]
     },
     "execution_count": 16,
     "metadata": {},
     "output_type": "execute_result"
    }
   ],
   "source": [
    "test_warm_start.shape"
   ]
  },
  {
   "cell_type": "code",
   "execution_count": 17,
   "id": "0373e4f1-287b-4eea-a686-96bc9ead72a4",
   "metadata": {},
   "outputs": [
    {
     "data": {
      "text/plain": [
       "(4365, 10)"
      ]
     },
     "execution_count": 17,
     "metadata": {},
     "output_type": "execute_result"
    }
   ],
   "source": [
    "eval_warm_start.shape"
   ]
  },
  {
   "cell_type": "markdown",
   "id": "15b95eda-7e2c-4052-ba19-15502f62ad56",
   "metadata": {},
   "source": [
    "#### Global"
   ]
  },
  {
   "cell_type": "code",
   "execution_count": 18,
   "id": "a2845516-1a8f-4a2d-b5b0-a1dca8e716b3",
   "metadata": {},
   "outputs": [],
   "source": [
    "test = (test_warm_start, test_cold_start)\n",
    "eval_ds = (eval_warm_start, eval_cold_start)"
   ]
  },
  {
   "cell_type": "code",
   "execution_count": 19,
   "id": "490043c2-0a09-4e84-9d3b-a70cb3656279",
   "metadata": {},
   "outputs": [
    {
     "name": "stdout",
     "output_type": "stream",
     "text": [
      "(7014, 10)\n",
      "(7030, 10)\n"
     ]
    }
   ],
   "source": [
    "print((test_warm_start.shape[0] + test_cold_start.shape[0], test_warm_start.shape[1]))\n",
    "print((eval_warm_start.shape[0] + eval_cold_start.shape[0], eval_warm_start.shape[1]))"
   ]
  },
  {
   "cell_type": "code",
   "execution_count": 20,
   "id": "e6b24582-0496-4f21-a649-ab7e0dc3babb",
   "metadata": {},
   "outputs": [],
   "source": [
    "test_eval_answers = test_warm_start.answer_id.tolist() + test_cold_start.answer_id.tolist() + eval_warm_start.answer_id.tolist() + eval_cold_start.answer_id.tolist()"
   ]
  },
  {
   "cell_type": "markdown",
   "id": "6e65c919-fd08-4c3b-90ef-245e59ea491c",
   "metadata": {},
   "source": [
    "### Train"
   ]
  },
  {
   "cell_type": "code",
   "execution_count": 21,
   "id": "48951838-e052-49ae-8141-679ff9fef10e",
   "metadata": {},
   "outputs": [],
   "source": [
    "train = positive_answers[~positive_answers.answer_id.isin(test_eval_answers)]"
   ]
  },
  {
   "cell_type": "code",
   "execution_count": 22,
   "id": "977b033f-b90d-461b-b9b2-5648dfde5eae",
   "metadata": {},
   "outputs": [
    {
     "data": {
      "text/plain": [
       "(48481, 10)"
      ]
     },
     "execution_count": 22,
     "metadata": {},
     "output_type": "execute_result"
    }
   ],
   "source": [
    "train.shape"
   ]
  },
  {
   "cell_type": "code",
   "execution_count": 23,
   "id": "e8de9cec-192f-4edc-8ef0-323cff095ed3",
   "metadata": {},
   "outputs": [
    {
     "data": {
      "text/plain": [
       "42630"
      ]
     },
     "execution_count": 23,
     "metadata": {},
     "output_type": "execute_result"
    }
   ],
   "source": [
    "train.question_id.nunique()"
   ]
  },
  {
   "cell_type": "code",
   "execution_count": 24,
   "id": "8154911a-af2b-4ba7-b324-d5cbd07b0621",
   "metadata": {},
   "outputs": [
    {
     "data": {
      "text/plain": [
       "0"
      ]
     },
     "execution_count": 24,
     "metadata": {},
     "output_type": "execute_result"
    }
   ],
   "source": [
    "train.answer_id.isin(test_eval_answers).sum()"
   ]
  },
  {
   "cell_type": "markdown",
   "id": "9b65965d-f318-499b-a16e-107004ed3dfd",
   "metadata": {},
   "source": [
    "### Serialize Datasets"
   ]
  },
  {
   "cell_type": "code",
   "execution_count": 25,
   "id": "7150f714-846d-4317-8e7c-59eab52f83c8",
   "metadata": {},
   "outputs": [],
   "source": [
    "from utils import Serializer, ESerializerExtension, SERIALIZED_DATA_ARTIFACT_NAMES"
   ]
  },
  {
   "cell_type": "code",
   "execution_count": 26,
   "id": "4cf47b62-82eb-481c-9237-00b8c79a78c1",
   "metadata": {},
   "outputs": [],
   "source": [
    "serializer = Serializer()"
   ]
  },
  {
   "cell_type": "code",
   "execution_count": 27,
   "id": "bc3c9476-8705-4597-bd8d-6bc72b3bf874",
   "metadata": {},
   "outputs": [
    {
     "name": "stderr",
     "output_type": "stream",
     "text": [
      "2022-07-16 14:40:02,475 :: _log_serialization :: INFO :: Serialize object to /home/okteto/user_recommendation/data/datasets/train.csv as ESerializerExtension.CSV. Object description: Train dataset\n",
      "2022-07-16 14:40:04,277 :: __call__ :: INFO :: Object correctly stored\n",
      "2022-07-16 14:40:04,279 :: _log_serialization :: INFO :: Serialize object to /home/okteto/user_recommendation/data/datasets/test_warm_start.csv as ESerializerExtension.CSV. Object description: Test dataset for warm start\n",
      "2022-07-16 14:40:04,425 :: __call__ :: INFO :: Object correctly stored\n",
      "2022-07-16 14:40:04,426 :: _log_serialization :: INFO :: Serialize object to /home/okteto/user_recommendation/data/datasets/test_cold_start.csv as ESerializerExtension.CSV. Object description: Test dataset for cold start\n",
      "2022-07-16 14:40:04,520 :: __call__ :: INFO :: Object correctly stored\n",
      "2022-07-16 14:40:04,521 :: _log_serialization :: INFO :: Serialize object to /home/okteto/user_recommendation/data/datasets/eval_warm_start.csv as ESerializerExtension.CSV. Object description: Eval dataset for warm start\n",
      "2022-07-16 14:40:04,670 :: __call__ :: INFO :: Object correctly stored\n",
      "2022-07-16 14:40:04,671 :: _log_serialization :: INFO :: Serialize object to /home/okteto/user_recommendation/data/datasets/eval_cold_start.csv as ESerializerExtension.CSV. Object description: Eval dataset for cold start\n",
      "2022-07-16 14:40:04,767 :: __call__ :: INFO :: Object correctly stored\n"
     ]
    }
   ],
   "source": [
    "serializer(train, \"../\"+SERIALIZED_DATA_ARTIFACT_NAMES.path_to_train_dataset ,ESerializerExtension.CSV, \"Train dataset\")\n",
    "\n",
    "serializer(test_warm_start, \"../\"+SERIALIZED_DATA_ARTIFACT_NAMES.path_to_test_warm_start_dataset ,ESerializerExtension.CSV, \"Test dataset for warm start\")\n",
    "\n",
    "serializer(test_cold_start, \"../\"+SERIALIZED_DATA_ARTIFACT_NAMES.path_to_test_cold_start_dataset ,ESerializerExtension.CSV, \"Test dataset for cold start\")\n",
    "\n",
    "serializer(eval_warm_start, \"../\"+SERIALIZED_DATA_ARTIFACT_NAMES.path_to_eval_warm_start_dataset ,ESerializerExtension.CSV, \"Eval dataset for warm start\")\n",
    "\n",
    "serializer(eval_cold_start, \"../\"+SERIALIZED_DATA_ARTIFACT_NAMES.path_to_eval_cold_start_dataset ,ESerializerExtension.CSV, \"Eval dataset for cold start\")"
   ]
  },
  {
   "cell_type": "code",
   "execution_count": null,
   "id": "165ff683-fd37-4a84-990d-317ebc023718",
   "metadata": {},
   "outputs": [],
   "source": []
  }
 ],
 "metadata": {
  "kernelspec": {
   "display_name": "Python 3 (ipykernel)",
   "language": "python",
   "name": "python3"
  },
  "language_info": {
   "codemirror_mode": {
    "name": "ipython",
    "version": 3
   },
   "file_extension": ".py",
   "mimetype": "text/x-python",
   "name": "python",
   "nbconvert_exporter": "python",
   "pygments_lexer": "ipython3",
   "version": "3.9.13"
  },
  "toc-autonumbering": true
 },
 "nbformat": 4,
 "nbformat_minor": 5
}
