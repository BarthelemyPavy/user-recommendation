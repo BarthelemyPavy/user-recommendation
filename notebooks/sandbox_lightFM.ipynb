{
 "cells": [
  {
   "cell_type": "markdown",
   "id": "83f409f9-8bae-4047-9f29-1b991810d7a2",
   "metadata": {},
   "source": [
    "# LightFm SandBox\n",
    "\n",
    "Just a sandbox to play with ligth fm"
   ]
  },
  {
   "cell_type": "code",
   "execution_count": 1,
   "id": "0dcdbc2a-24da-412b-980c-e8d6859601a9",
   "metadata": {},
   "outputs": [],
   "source": [
    "import pandas as pd\n",
    "import numpy as np"
   ]
  },
  {
   "cell_type": "markdown",
   "id": "eac80b9c-1cb9-47d6-90b3-0028b8b5b71f",
   "metadata": {
    "tags": []
   },
   "source": [
    "## Book Rating"
   ]
  },
  {
   "cell_type": "code",
   "execution_count": 2,
   "id": "652e680e-e354-4154-b107-d3fd4ca32f9f",
   "metadata": {},
   "outputs": [],
   "source": [
    "import os\n",
    "import zipfile\n",
    "import csv\n",
    "\n",
    "import requests\n",
    "\n",
    "\n",
    "def _download(url: str, dest_path: str):\n",
    "\n",
    "    req = requests.get(url, stream=True)\n",
    "    req.raise_for_status()\n",
    "\n",
    "    with open(dest_path, \"wb\") as fd:\n",
    "        for chunk in req.iter_content(chunk_size=2 ** 20):\n",
    "            fd.write(chunk)\n",
    "\n",
    "\n",
    "def get_data():\n",
    "\n",
    "    ratings_url = (\"http://www2.informatik.uni-freiburg.de/\" \"~cziegler/BX/BX-CSV-Dump.zip\")\n",
    "\n",
    "    if not os.path.exists(\"data\"):\n",
    "        os.makedirs(\"data\")\n",
    "\n",
    "        _download(ratings_url, \"data/data.zip\")\n",
    "\n",
    "    with zipfile.ZipFile(\"data/data.zip\") as archive:\n",
    "        return (\n",
    "            csv.DictReader(\n",
    "                (x.decode(\"utf-8\", \"ignore\") for x in archive.open(\"BX-Book-Ratings.csv\")),\n",
    "                delimiter=\";\",\n",
    "            ),\n",
    "            csv.DictReader(\n",
    "                (x.decode(\"utf-8\", \"ignore\") for x in archive.open(\"BX-Books.csv\")), delimiter=\";\"\n",
    "            ),\n",
    "        )\n",
    "\n",
    "\n",
    "def get_ratings():\n",
    "\n",
    "    return get_data()[0]\n",
    "\n",
    "\n",
    "def get_book_features():\n",
    "\n",
    "    return get_data()[1]"
   ]
  },
  {
   "cell_type": "code",
   "execution_count": 3,
   "id": "c7c69082-9a5f-4218-8ff5-675c8fe4d936",
   "metadata": {},
   "outputs": [],
   "source": [
    "import json\n",
    "from itertools import islice\n",
    "\n",
    "ratings, book_features = get_data()"
   ]
  },
  {
   "cell_type": "code",
   "execution_count": 6,
   "id": "486eb32a-7b9b-472c-aa79-bb9901290bb3",
   "metadata": {},
   "outputs": [
    {
     "name": "stdout",
     "output_type": "stream",
     "text": [
      "{\n",
      "    \"User-ID\": \"276725\",\n",
      "    \"ISBN\": \"034545104X\",\n",
      "    \"Book-Rating\": \"0\"\n",
      "}\n",
      "{\n",
      "    \"User-ID\": \"276726\",\n",
      "    \"ISBN\": \"0155061224\",\n",
      "    \"Book-Rating\": \"5\"\n",
      "}\n"
     ]
    }
   ],
   "source": [
    "for line in islice(ratings, 2):\n",
    "    print(json.dumps(line, indent=4))"
   ]
  },
  {
   "cell_type": "code",
   "execution_count": 7,
   "id": "af25ebe4-8802-44a8-aaf8-e3c7455f6a2b",
   "metadata": {},
   "outputs": [
    {
     "name": "stdout",
     "output_type": "stream",
     "text": [
      "{\n",
      "    \"ISBN\": \"0195153448\",\n",
      "    \"Book-Title\": \"Classical Mythology\",\n",
      "    \"Book-Author\": \"Mark P. O. Morford\",\n",
      "    \"Year-Of-Publication\": \"2002\",\n",
      "    \"Publisher\": \"Oxford University Press\",\n",
      "    \"Image-URL-S\": \"http://images.amazon.com/images/P/0195153448.01.THUMBZZZ.jpg\",\n",
      "    \"Image-URL-M\": \"http://images.amazon.com/images/P/0195153448.01.MZZZZZZZ.jpg\",\n",
      "    \"Image-URL-L\": \"http://images.amazon.com/images/P/0195153448.01.LZZZZZZZ.jpg\"\n",
      "}\n"
     ]
    }
   ],
   "source": [
    "for line in islice(book_features, 1):\n",
    "    print(json.dumps(line, indent=4))"
   ]
  },
  {
   "cell_type": "code",
   "execution_count": 10,
   "id": "7133eef4-515f-4b38-8661-49247d4a00b6",
   "metadata": {},
   "outputs": [],
   "source": [
    "from lightfm.data import Dataset\n",
    "\n",
    "dataset = Dataset()\n",
    "dataset.fit((x['User-ID'] for x in get_ratings()),\n",
    "            (x['ISBN'] for x in get_ratings()))"
   ]
  },
  {
   "cell_type": "code",
   "execution_count": 11,
   "id": "80a7ce6c-f3c4-4743-8a9b-05bffd90652a",
   "metadata": {},
   "outputs": [
    {
     "name": "stdout",
     "output_type": "stream",
     "text": [
      "Num users: 105283, num_items 340553.\n"
     ]
    }
   ],
   "source": [
    "num_users, num_items = dataset.interactions_shape()\n",
    "print('Num users: {}, num_items {}.'.format(num_users, num_items))"
   ]
  },
  {
   "cell_type": "code",
   "execution_count": 12,
   "id": "1f1fe4f0-f93e-48c9-95de-5d5134c720ed",
   "metadata": {},
   "outputs": [],
   "source": [
    "dataset.fit_partial(items=(x['ISBN'] for x in get_book_features()),\n",
    "                    item_features=(x['Book-Author'] for x in get_book_features()))"
   ]
  },
  {
   "cell_type": "code",
   "execution_count": 13,
   "id": "2a5e11ec-5ae6-499a-9d80-c99334b74474",
   "metadata": {},
   "outputs": [
    {
     "name": "stdout",
     "output_type": "stream",
     "text": [
      "<105283x341762 sparse matrix of type '<class 'numpy.int32'>'\n",
      "\twith 1149780 stored elements in COOrdinate format>\n"
     ]
    }
   ],
   "source": [
    "(interactions, weights) = dataset.build_interactions(((x['User-ID'], x['ISBN'])\n",
    "                                                      for x in get_ratings()))\n",
    "\n",
    "print(repr(interactions))"
   ]
  },
  {
   "cell_type": "code",
   "execution_count": 14,
   "id": "61d782db-7517-4e0b-a1dc-1bd6d1816579",
   "metadata": {},
   "outputs": [
    {
     "name": "stdout",
     "output_type": "stream",
     "text": [
      "<341762x443805 sparse matrix of type '<class 'numpy.float32'>'\n",
      "\twith 613141 stored elements in Compressed Sparse Row format>\n"
     ]
    }
   ],
   "source": [
    "item_features = dataset.build_item_features(((x['ISBN'], [x['Book-Author']])\n",
    "                                              for x in get_book_features()))\n",
    "print(repr(item_features))"
   ]
  },
  {
   "cell_type": "code",
   "execution_count": 15,
   "id": "fc01329b-5a43-4ebf-9c96-46086018d196",
   "metadata": {},
   "outputs": [
    {
     "data": {
      "text/plain": [
       "<lightfm.lightfm.LightFM at 0x7f352013ea00>"
      ]
     },
     "execution_count": 15,
     "metadata": {},
     "output_type": "execute_result"
    }
   ],
   "source": [
    "from lightfm import LightFM\n",
    "\n",
    "model = LightFM(loss='bpr')\n",
    "model.fit(interactions, item_features=item_features)"
   ]
  },
  {
   "cell_type": "code",
   "execution_count": 17,
   "id": "c3cf9397-1863-4bb4-96f2-9b16a27f1d41",
   "metadata": {},
   "outputs": [
    {
     "data": {
      "text/plain": [
       "(array([0.05689505, 0.01122606, 0.02425163, ..., 0.00012449, 0.00013582,\n",
       "        0.01293525], dtype=float32),\n",
       " array([[-0.04431621,  0.01467769,  0.03732223, ..., -0.03474615,\n",
       "         -0.0011189 , -0.04797392],\n",
       "        [ 0.04997495,  0.04508774,  0.0341003 , ...,  0.00662619,\n",
       "          0.04166448,  0.01836482],\n",
       "        [-0.01720993,  0.03878503, -0.04898636, ..., -0.00958192,\n",
       "         -0.05391732, -0.00313546],\n",
       "        ...,\n",
       "        [ 0.0014292 ,  0.04314879,  0.01599961, ...,  0.04944107,\n",
       "          0.02679814,  0.0148116 ],\n",
       "        [-0.01905122, -0.02311305,  0.01597524, ...,  0.04012644,\n",
       "          0.01705031,  0.00819863],\n",
       "        [-0.0225209 , -0.02254307,  0.00700371, ..., -0.00770362,\n",
       "          0.02999308, -0.00057471]], dtype=float32))"
      ]
     },
     "execution_count": 17,
     "metadata": {},
     "output_type": "execute_result"
    }
   ],
   "source": [
    "model.get_item_representations()"
   ]
  }
 ],
 "metadata": {
  "kernelspec": {
   "display_name": "Python 3 (ipykernel)",
   "language": "python",
   "name": "python3"
  },
  "language_info": {
   "codemirror_mode": {
    "name": "ipython",
    "version": 3
   },
   "file_extension": ".py",
   "mimetype": "text/x-python",
   "name": "python",
   "nbconvert_exporter": "python",
   "pygments_lexer": "ipython3",
   "version": "3.9.13"
  }
 },
 "nbformat": 4,
 "nbformat_minor": 5
}
