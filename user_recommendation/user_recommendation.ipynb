{
 "cells": [
  {
   "cell_type": "markdown",
   "metadata": {},
   "source": [
    "## Who can answer my question ?\n",
    "\n",
    "User Recommendation is a project training a recommender system to recommend bests users susceptible to answer a stack overflow question.  \n",
    "Here we will see how to visualize report generating by Metaflow at the end of the training."
   ]
  },
  {
   "cell_type": "markdown",
   "metadata": {},
   "source": [
    "### Import Metaflow Client"
   ]
  },
  {
   "cell_type": "code",
   "execution_count": 1,
   "metadata": {},
   "outputs": [
    {
     "name": "stdout",
     "output_type": "stream",
     "text": [
      "Current metadata provider: local@/home/barthelemy/JellySmack/user-recommendation\n"
     ]
    }
   ],
   "source": [
    "from metaflow import Flow, get_metadata\n",
    "print(\"Current metadata provider: %s\" % get_metadata())"
   ]
  },
  {
   "cell_type": "markdown",
   "metadata": {},
   "source": [
    "### Get your latest run and print it"
   ]
  },
  {
   "cell_type": "code",
   "execution_count": 8,
   "metadata": {},
   "outputs": [
    {
     "name": "stdout",
     "output_type": "stream",
     "text": [
      "Using run: Run('TrainingModelFlow/1658195738122527')\n"
     ]
    }
   ],
   "source": [
    "run = Flow('TrainingModelFlow').latest_successful_run\n",
    "print(\"Using run: %s\" % str(run))"
   ]
  },
  {
   "cell_type": "markdown",
   "metadata": {},
   "source": [
    "### Unpack models artifacts"
   ]
  },
  {
   "cell_type": "code",
   "execution_count": 14,
   "metadata": {},
   "outputs": [],
   "source": [
    "model_cf, metrics_cf = run.data.model_artifacts_cf\n",
    "model_hybrid, metrics_hybrid = run.data.model_artifacts_hybrid"
   ]
  },
  {
   "cell_type": "markdown",
   "metadata": {},
   "source": [
    "### Print metrics monitored at training stage"
   ]
  },
  {
   "cell_type": "code",
   "execution_count": 19,
   "metadata": {},
   "outputs": [
    {
     "data": {
      "text/html": [
       "<div>\n",
       "<style scoped>\n",
       "    .dataframe tbody tr th:only-of-type {\n",
       "        vertical-align: middle;\n",
       "    }\n",
       "\n",
       "    .dataframe tbody tr th {\n",
       "        vertical-align: top;\n",
       "    }\n",
       "\n",
       "    .dataframe thead th {\n",
       "        text-align: right;\n",
       "    }\n",
       "</style>\n",
       "<table border=\"1\" class=\"dataframe\">\n",
       "  <thead>\n",
       "    <tr style=\"text-align: right;\">\n",
       "      <th></th>\n",
       "      <th>epoch</th>\n",
       "      <th>stage</th>\n",
       "      <th>metric</th>\n",
       "      <th>value</th>\n",
       "    </tr>\n",
       "  </thead>\n",
       "  <tbody>\n",
       "    <tr>\n",
       "      <th>0</th>\n",
       "      <td>0</td>\n",
       "      <td>train</td>\n",
       "      <td>ROC AUC</td>\n",
       "      <td>0.911283</td>\n",
       "    </tr>\n",
       "    <tr>\n",
       "      <th>1</th>\n",
       "      <td>0</td>\n",
       "      <td>validation</td>\n",
       "      <td>ROC AUC</td>\n",
       "      <td>0.585621</td>\n",
       "    </tr>\n",
       "    <tr>\n",
       "      <th>2</th>\n",
       "      <td>1</td>\n",
       "      <td>train</td>\n",
       "      <td>ROC AUC</td>\n",
       "      <td>0.911622</td>\n",
       "    </tr>\n",
       "    <tr>\n",
       "      <th>3</th>\n",
       "      <td>1</td>\n",
       "      <td>validation</td>\n",
       "      <td>ROC AUC</td>\n",
       "      <td>0.585660</td>\n",
       "    </tr>\n",
       "  </tbody>\n",
       "</table>\n",
       "</div>"
      ],
      "text/plain": [
       "  epoch       stage   metric     value\n",
       "0     0       train  ROC AUC  0.911283\n",
       "1     0  validation  ROC AUC  0.585621\n",
       "2     1       train  ROC AUC  0.911622\n",
       "3     1  validation  ROC AUC  0.585660"
      ]
     },
     "execution_count": 19,
     "metadata": {},
     "output_type": "execute_result"
    }
   ],
   "source": [
    "metrics_cf"
   ]
  },
  {
   "cell_type": "code",
   "execution_count": 23,
   "metadata": {},
   "outputs": [
    {
     "data": {
      "text/html": [
       "<div>\n",
       "<style scoped>\n",
       "    .dataframe tbody tr th:only-of-type {\n",
       "        vertical-align: middle;\n",
       "    }\n",
       "\n",
       "    .dataframe tbody tr th {\n",
       "        vertical-align: top;\n",
       "    }\n",
       "\n",
       "    .dataframe thead th {\n",
       "        text-align: right;\n",
       "    }\n",
       "</style>\n",
       "<table border=\"1\" class=\"dataframe\">\n",
       "  <thead>\n",
       "    <tr style=\"text-align: right;\">\n",
       "      <th></th>\n",
       "      <th>epoch</th>\n",
       "      <th>stage</th>\n",
       "      <th>metric</th>\n",
       "      <th>value</th>\n",
       "    </tr>\n",
       "  </thead>\n",
       "  <tbody>\n",
       "    <tr>\n",
       "      <th>0</th>\n",
       "      <td>0</td>\n",
       "      <td>train</td>\n",
       "      <td>ROC AUC</td>\n",
       "      <td>0.197491</td>\n",
       "    </tr>\n",
       "    <tr>\n",
       "      <th>1</th>\n",
       "      <td>0</td>\n",
       "      <td>validation</td>\n",
       "      <td>ROC AUC</td>\n",
       "      <td>0.203349</td>\n",
       "    </tr>\n",
       "    <tr>\n",
       "      <th>2</th>\n",
       "      <td>1</td>\n",
       "      <td>train</td>\n",
       "      <td>ROC AUC</td>\n",
       "      <td>0.198813</td>\n",
       "    </tr>\n",
       "    <tr>\n",
       "      <th>3</th>\n",
       "      <td>1</td>\n",
       "      <td>validation</td>\n",
       "      <td>ROC AUC</td>\n",
       "      <td>0.203596</td>\n",
       "    </tr>\n",
       "  </tbody>\n",
       "</table>\n",
       "</div>"
      ],
      "text/plain": [
       "  epoch       stage   metric     value\n",
       "0     0       train  ROC AUC  0.197491\n",
       "1     0  validation  ROC AUC  0.203349\n",
       "2     1       train  ROC AUC  0.198813\n",
       "3     1  validation  ROC AUC  0.203596"
      ]
     },
     "execution_count": 23,
     "metadata": {},
     "output_type": "execute_result"
    }
   ],
   "source": [
    "metrics_hybrid"
   ]
  },
  {
   "cell_type": "code",
   "execution_count": 40,
   "metadata": {},
   "outputs": [],
   "source": [
    "step = run[\"generate_report\"]"
   ]
  },
  {
   "cell_type": "code",
   "execution_count": 42,
   "metadata": {},
   "outputs": [
    {
     "data": {
      "text/plain": [
       "[Task('TrainingModelFlow/1658195738122527/generate_report/14')]"
      ]
     },
     "execution_count": 42,
     "metadata": {},
     "output_type": "execute_result"
    }
   ],
   "source": [
    "[task for task in step]"
   ]
  },
  {
   "cell_type": "markdown",
   "metadata": {},
   "source": [
    "### Print the card of this run"
   ]
  },
  {
   "cell_type": "code",
   "execution_count": null,
   "metadata": {},
   "outputs": [
    {
     "ename": "CardNotPresentException",
     "evalue": "Card not found for pathspec TrainingModelFlow/1658195738122527/end/15",
     "output_type": "error",
     "traceback": [
      "\u001b[0;31m---------------------------------------------------------------------------\u001b[0m",
      "\u001b[0;31mCardNotPresentException\u001b[0m                   Traceback (most recent call last)",
      "\u001b[1;32m/home/barthelemy/JellySmack/user-recommendation/user_recommendation/user_recommendation.ipynb Cell 16\u001b[0m in \u001b[0;36m<cell line: 2>\u001b[0;34m()\u001b[0m\n\u001b[1;32m      <a href='vscode-notebook-cell:/home/barthelemy/JellySmack/user-recommendation/user_recommendation/user_recommendation.ipynb#ch0000012?line=0'>1</a>\u001b[0m \u001b[39mfrom\u001b[39;00m \u001b[39mmetaflow\u001b[39;00m\u001b[39m.\u001b[39;00m\u001b[39mcards\u001b[39;00m \u001b[39mimport\u001b[39;00m get_cards\n\u001b[0;32m----> <a href='vscode-notebook-cell:/home/barthelemy/JellySmack/user-recommendation/user_recommendation/user_recommendation.ipynb#ch0000012?line=1'>2</a>\u001b[0m get_cards(run\u001b[39m.\u001b[39;49mend_task)\n",
      "File \u001b[0;32m~/JellySmack/user-recommendation/.venv/lib/python3.9/site-packages/metaflow/plugins/cards/card_client.py:206\u001b[0m, in \u001b[0;36mget_cards\u001b[0;34m(task, id, type, follow_resumed)\u001b[0m\n\u001b[1;32m    203\u001b[0m     \u001b[39mif\u001b[39;00m origin_taskpathspec:\n\u001b[1;32m    204\u001b[0m         task \u001b[39m=\u001b[39m Task(origin_taskpathspec)\n\u001b[0;32m--> 206\u001b[0m card_paths, card_ds \u001b[39m=\u001b[39m resolve_paths_from_task(\n\u001b[1;32m    207\u001b[0m     _get_flow_datastore(task), pathspec\u001b[39m=\u001b[39;49mtask\u001b[39m.\u001b[39;49mpathspec, \u001b[39mtype\u001b[39;49m\u001b[39m=\u001b[39;49m\u001b[39mtype\u001b[39;49m, card_id\u001b[39m=\u001b[39;49mcard_id\n\u001b[1;32m    208\u001b[0m )\n\u001b[1;32m    209\u001b[0m \u001b[39mreturn\u001b[39;00m CardContainer(\n\u001b[1;32m    210\u001b[0m     card_paths,\n\u001b[1;32m    211\u001b[0m     card_ds,\n\u001b[1;32m    212\u001b[0m     from_resumed\u001b[39m=\u001b[39morigin_taskpathspec \u001b[39mis\u001b[39;00m \u001b[39mnot\u001b[39;00m \u001b[39mNone\u001b[39;00m,\n\u001b[1;32m    213\u001b[0m     origin_pathspec\u001b[39m=\u001b[39morigin_taskpathspec,\n\u001b[1;32m    214\u001b[0m )\n",
      "File \u001b[0;32m~/JellySmack/user-recommendation/.venv/lib/python3.9/site-packages/metaflow/plugins/cards/card_resolver.py:29\u001b[0m, in \u001b[0;36mresolve_paths_from_task\u001b[0;34m(flow_datastore, pathspec, type, hash, card_id)\u001b[0m\n\u001b[1;32m     21\u001b[0m \u001b[39mdef\u001b[39;00m \u001b[39mresolve_paths_from_task\u001b[39m(\n\u001b[1;32m     22\u001b[0m     flow_datastore,\n\u001b[1;32m     23\u001b[0m     pathspec\u001b[39m=\u001b[39m\u001b[39mNone\u001b[39;00m,\n\u001b[0;32m   (...)\u001b[0m\n\u001b[1;32m     26\u001b[0m     card_id\u001b[39m=\u001b[39m\u001b[39mNone\u001b[39;00m,\n\u001b[1;32m     27\u001b[0m ):\n\u001b[1;32m     28\u001b[0m     card_datastore \u001b[39m=\u001b[39m CardDatastore(flow_datastore, pathspec\u001b[39m=\u001b[39mpathspec)\n\u001b[0;32m---> 29\u001b[0m     card_paths_found \u001b[39m=\u001b[39m card_datastore\u001b[39m.\u001b[39;49mextract_card_paths(\n\u001b[1;32m     30\u001b[0m         card_type\u001b[39m=\u001b[39;49m\u001b[39mtype\u001b[39;49m, card_hash\u001b[39m=\u001b[39;49m\u001b[39mhash\u001b[39;49m, card_id\u001b[39m=\u001b[39;49mcard_id\n\u001b[1;32m     31\u001b[0m     )\n\u001b[1;32m     32\u001b[0m     \u001b[39mreturn\u001b[39;00m card_paths_found, card_datastore\n",
      "File \u001b[0;32m~/JellySmack/user-recommendation/.venv/lib/python3.9/site-packages/metaflow/plugins/cards/card_datastore.py:223\u001b[0m, in \u001b[0;36mCardDatastore.extract_card_paths\u001b[0;34m(self, card_type, card_hash, card_id)\u001b[0m\n\u001b[1;32m    222\u001b[0m \u001b[39mdef\u001b[39;00m \u001b[39mextract_card_paths\u001b[39m(\u001b[39mself\u001b[39m, card_type\u001b[39m=\u001b[39m\u001b[39mNone\u001b[39;00m, card_hash\u001b[39m=\u001b[39m\u001b[39mNone\u001b[39;00m, card_id\u001b[39m=\u001b[39m\u001b[39mNone\u001b[39;00m):\n\u001b[0;32m--> 223\u001b[0m     \u001b[39mreturn\u001b[39;00m \u001b[39mself\u001b[39;49m\u001b[39m.\u001b[39;49m_list_card_paths(\n\u001b[1;32m    224\u001b[0m         card_type\u001b[39m=\u001b[39;49mcard_type, card_hash\u001b[39m=\u001b[39;49mcard_hash, card_id\u001b[39m=\u001b[39;49mcard_id\n\u001b[1;32m    225\u001b[0m     )\n",
      "File \u001b[0;32m~/JellySmack/user-recommendation/.venv/lib/python3.9/site-packages/metaflow/plugins/cards/card_datastore.py:162\u001b[0m, in \u001b[0;36mCardDatastore._list_card_paths\u001b[0;34m(self, card_type, card_hash, card_id)\u001b[0m\n\u001b[1;32m    159\u001b[0m card_paths \u001b[39m=\u001b[39m \u001b[39mself\u001b[39m\u001b[39m.\u001b[39m_backend\u001b[39m.\u001b[39mlist_content([card_path])\n\u001b[1;32m    160\u001b[0m \u001b[39mif\u001b[39;00m \u001b[39mlen\u001b[39m(card_paths) \u001b[39m==\u001b[39m \u001b[39m0\u001b[39m:\n\u001b[1;32m    161\u001b[0m     \u001b[39m# If there are no files found on the Path then raise an error of\u001b[39;00m\n\u001b[0;32m--> 162\u001b[0m     \u001b[39mraise\u001b[39;00m CardNotPresentException(\n\u001b[1;32m    163\u001b[0m         \u001b[39mself\u001b[39m\u001b[39m.\u001b[39m_pathspec,\n\u001b[1;32m    164\u001b[0m         card_hash\u001b[39m=\u001b[39mcard_hash,\n\u001b[1;32m    165\u001b[0m         card_type\u001b[39m=\u001b[39mcard_type,\n\u001b[1;32m    166\u001b[0m     )\n\u001b[1;32m    167\u001b[0m cards_found \u001b[39m=\u001b[39m []\n\u001b[1;32m    168\u001b[0m \u001b[39mfor\u001b[39;00m task_card_path \u001b[39min\u001b[39;00m card_paths:\n",
      "\u001b[0;31mCardNotPresentException\u001b[0m: Card not found for pathspec TrainingModelFlow/1658195738122527/end/15"
     ]
    }
   ],
   "source": [
    "from metaflow.cards import get_cards\n",
    "get_cards(run.end_task)"
   ]
  }
 ],
 "metadata": {
  "kernelspec": {
   "display_name": "Python 3 (ipykernel)",
   "language": "python",
   "name": "python3"
  },
  "language_info": {
   "codemirror_mode": {
    "name": "ipython",
    "version": 3
   },
   "file_extension": ".py",
   "mimetype": "text/x-python",
   "name": "python",
   "nbconvert_exporter": "python",
   "pygments_lexer": "ipython3",
   "version": "3.9.13"
  },
  "vscode": {
   "interpreter": {
    "hash": "b3a5420bc72a153eb19bc61fe9f4f579cf9003dbc754ddca24e0ad457f4baff1"
   }
  }
 },
 "nbformat": 4,
 "nbformat_minor": 4
}
